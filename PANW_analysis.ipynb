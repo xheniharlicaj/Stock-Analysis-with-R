{
 "cells": [
  {
   "cell_type": "markdown",
   "id": "703db626-d0db-4417-8667-eb7406c68ffd",
   "metadata": {},
   "source": [
    "# Stock Analysis with R"
   ]
  },
  {
   "cell_type": "markdown",
   "id": "a73f7ed9-37aa-48bd-9a0a-73828c61af56",
   "metadata": {},
   "source": [
    "We will be analyzing **Palo Alto Networks, Inc (PANW)** stock data. Palo Alto Networks is a leading cybersecurity company that provides advanced security solutions to protect organizations from cyber threats. "
   ]
  },
  {
   "cell_type": "markdown",
   "id": "40fd4c79-a0dc-4f0f-bc14-ea296c4ce0ed",
   "metadata": {},
   "source": [
    "Palo Alto Networks (NYSE: PANW) began trading on the New York Stock Exchange on July 20, 2012 - it ended of being one of the 10 largest IPOs of that year. Since then, it has become a prominent player in the cybersecurity industry, providing innovative security solutions to organizations worldwide."
   ]
  },
  {
   "cell_type": "code",
   "execution_count": 20,
   "id": "acffeaa7-f3e4-4864-9957-2543b928713d",
   "metadata": {},
   "outputs": [],
   "source": [
    "# Loading the libraries\n",
    "library(tidyverse)\n",
    "library(quantmod)\n",
    "library(tidyquant)\n",
    "library(tseries)\n",
    "library(ggplot2)"
   ]
  },
  {
   "cell_type": "code",
   "execution_count": 3,
   "id": "283639ed-2a1a-43ff-91f5-b07efefe6ead",
   "metadata": {},
   "outputs": [
    {
     "data": {
      "text/html": [
       "'PANW'"
      ],
      "text/latex": [
       "'PANW'"
      ],
      "text/markdown": [
       "'PANW'"
      ],
      "text/plain": [
       "[1] \"PANW\""
      ]
     },
     "metadata": {},
     "output_type": "display_data"
    },
    {
     "data": {
      "text/html": [
       "<table class=\"dataframe\">\n",
       "<caption>A tibble: 2916 × 8</caption>\n",
       "<thead>\n",
       "\t<tr><th scope=col>symbol</th><th scope=col>date</th><th scope=col>open</th><th scope=col>high</th><th scope=col>low</th><th scope=col>close</th><th scope=col>volume</th><th scope=col>adjusted</th></tr>\n",
       "\t<tr><th scope=col>&lt;chr&gt;</th><th scope=col>&lt;date&gt;</th><th scope=col>&lt;dbl&gt;</th><th scope=col>&lt;dbl&gt;</th><th scope=col>&lt;dbl&gt;</th><th scope=col>&lt;dbl&gt;</th><th scope=col>&lt;dbl&gt;</th><th scope=col>&lt;dbl&gt;</th></tr>\n",
       "</thead>\n",
       "<tbody>\n",
       "\t<tr><td>PANW</td><td>2012-07-20</td><td>18.38333</td><td>20.69000</td><td>17.70000</td><td>17.71000</td><td>21048300</td><td>17.71000</td></tr>\n",
       "\t<tr><td>PANW</td><td>2012-07-23</td><td>17.53333</td><td>18.00000</td><td>17.03333</td><td>17.17000</td><td> 2365200</td><td>17.17000</td></tr>\n",
       "\t<tr><td>PANW</td><td>2012-07-24</td><td>17.33333</td><td>18.66667</td><td>17.17333</td><td>18.50000</td><td> 2150400</td><td>18.50000</td></tr>\n",
       "\t<tr><td>PANW</td><td>2012-07-25</td><td>18.83333</td><td>19.66667</td><td>18.43333</td><td>19.65000</td><td> 1799100</td><td>19.65000</td></tr>\n",
       "\t<tr><td>PANW</td><td>2012-07-26</td><td>19.92667</td><td>20.61667</td><td>19.36000</td><td>19.96000</td><td> 1283400</td><td>19.96000</td></tr>\n",
       "\t<tr><td>PANW</td><td>2012-07-27</td><td>20.29333</td><td>20.29333</td><td>19.00000</td><td>19.00000</td><td>  460200</td><td>19.00000</td></tr>\n",
       "\t<tr><td>PANW</td><td>2012-07-30</td><td>18.95333</td><td>18.95333</td><td>17.97333</td><td>18.33333</td><td>  829200</td><td>18.33333</td></tr>\n",
       "\t<tr><td>PANW</td><td>2012-07-31</td><td>18.33333</td><td>19.04667</td><td>17.40333</td><td>19.04667</td><td>  856200</td><td>19.04667</td></tr>\n",
       "\t<tr><td>PANW</td><td>2012-08-01</td><td>19.57333</td><td>19.57333</td><td>18.38000</td><td>18.72667</td><td>  332700</td><td>18.72667</td></tr>\n",
       "\t<tr><td>PANW</td><td>2012-08-02</td><td>18.56000</td><td>20.00000</td><td>17.75667</td><td>18.36667</td><td>  498000</td><td>18.36667</td></tr>\n",
       "\t<tr><td>PANW</td><td>2012-08-03</td><td>18.88333</td><td>18.96667</td><td>18.08333</td><td>18.26333</td><td>  872700</td><td>18.26333</td></tr>\n",
       "\t<tr><td>PANW</td><td>2012-08-06</td><td>18.56667</td><td>18.64000</td><td>17.89333</td><td>18.26000</td><td>  468900</td><td>18.26000</td></tr>\n",
       "\t<tr><td>PANW</td><td>2012-08-07</td><td>18.33333</td><td>19.14667</td><td>18.17333</td><td>18.93333</td><td> 1097400</td><td>18.93333</td></tr>\n",
       "\t<tr><td>PANW</td><td>2012-08-08</td><td>18.73333</td><td>20.33333</td><td>18.62333</td><td>20.31000</td><td> 1511700</td><td>20.31000</td></tr>\n",
       "\t<tr><td>PANW</td><td>2012-08-09</td><td>20.33333</td><td>20.82000</td><td>19.95333</td><td>20.44333</td><td>  878100</td><td>20.44333</td></tr>\n",
       "\t<tr><td>PANW</td><td>2012-08-10</td><td>20.33333</td><td>21.32333</td><td>20.16333</td><td>20.44000</td><td>  855300</td><td>20.44000</td></tr>\n",
       "\t<tr><td>PANW</td><td>2012-08-13</td><td>20.36667</td><td>21.02667</td><td>20.00000</td><td>20.90667</td><td>  666000</td><td>20.90667</td></tr>\n",
       "\t<tr><td>PANW</td><td>2012-08-14</td><td>21.37667</td><td>21.45333</td><td>19.77667</td><td>19.93333</td><td> 1421100</td><td>19.93333</td></tr>\n",
       "\t<tr><td>PANW</td><td>2012-08-15</td><td>19.86667</td><td>20.96667</td><td>19.23333</td><td>20.91000</td><td>  761400</td><td>20.91000</td></tr>\n",
       "\t<tr><td>PANW</td><td>2012-08-16</td><td>21.16667</td><td>22.30333</td><td>20.62333</td><td>22.16667</td><td> 1115400</td><td>22.16667</td></tr>\n",
       "\t<tr><td>PANW</td><td>2012-08-17</td><td>22.36667</td><td>22.83333</td><td>21.61333</td><td>22.43000</td><td> 1153800</td><td>22.43000</td></tr>\n",
       "\t<tr><td>PANW</td><td>2012-08-20</td><td>22.26000</td><td>22.38333</td><td>21.65667</td><td>21.82333</td><td>  810000</td><td>21.82333</td></tr>\n",
       "\t<tr><td>PANW</td><td>2012-08-21</td><td>21.82667</td><td>22.14333</td><td>21.09333</td><td>21.44000</td><td>  742800</td><td>21.44000</td></tr>\n",
       "\t<tr><td>PANW</td><td>2012-08-22</td><td>21.68667</td><td>21.72333</td><td>21.04000</td><td>21.08333</td><td>  373800</td><td>21.08333</td></tr>\n",
       "\t<tr><td>PANW</td><td>2012-08-23</td><td>21.06667</td><td>21.62667</td><td>20.83333</td><td>21.38000</td><td>  645900</td><td>21.38000</td></tr>\n",
       "\t<tr><td>PANW</td><td>2012-08-24</td><td>21.15000</td><td>21.92333</td><td>21.08333</td><td>21.59000</td><td>  608700</td><td>21.59000</td></tr>\n",
       "\t<tr><td>PANW</td><td>2012-08-27</td><td>21.68333</td><td>21.94667</td><td>20.87333</td><td>21.23000</td><td>  531000</td><td>21.23000</td></tr>\n",
       "\t<tr><td>PANW</td><td>2012-08-28</td><td>21.23333</td><td>21.47000</td><td>20.97000</td><td>21.30000</td><td>  312600</td><td>21.30000</td></tr>\n",
       "\t<tr><td>PANW</td><td>2012-08-29</td><td>21.40667</td><td>21.70000</td><td>21.03333</td><td>21.57667</td><td>  486000</td><td>21.57667</td></tr>\n",
       "\t<tr><td>PANW</td><td>2012-08-30</td><td>21.57000</td><td>22.22333</td><td>21.09000</td><td>21.14333</td><td>  689700</td><td>21.14333</td></tr>\n",
       "\t<tr><td>⋮</td><td>⋮</td><td>⋮</td><td>⋮</td><td>⋮</td><td>⋮</td><td>⋮</td><td>⋮</td></tr>\n",
       "\t<tr><td>PANW</td><td>2024-01-10</td><td>305.20</td><td>316.49</td><td>305.10</td><td>316.09</td><td> 5080800</td><td>316.09</td></tr>\n",
       "\t<tr><td>PANW</td><td>2024-01-11</td><td>320.53</td><td>325.37</td><td>316.52</td><td>323.49</td><td> 5000700</td><td>323.49</td></tr>\n",
       "\t<tr><td>PANW</td><td>2024-01-12</td><td>324.51</td><td>330.40</td><td>321.40</td><td>325.24</td><td> 3191100</td><td>325.24</td></tr>\n",
       "\t<tr><td>PANW</td><td>2024-01-16</td><td>328.30</td><td>333.30</td><td>325.50</td><td>332.05</td><td> 3758400</td><td>332.05</td></tr>\n",
       "\t<tr><td>PANW</td><td>2024-01-17</td><td>330.54</td><td>332.47</td><td>322.61</td><td>330.06</td><td> 3932200</td><td>330.06</td></tr>\n",
       "\t<tr><td>PANW</td><td>2024-01-18</td><td>336.41</td><td>338.59</td><td>332.56</td><td>335.77</td><td> 3598700</td><td>335.77</td></tr>\n",
       "\t<tr><td>PANW</td><td>2024-01-19</td><td>339.53</td><td>340.40</td><td>334.31</td><td>337.74</td><td> 2917600</td><td>337.74</td></tr>\n",
       "\t<tr><td>PANW</td><td>2024-01-22</td><td>346.29</td><td>350.60</td><td>342.45</td><td>345.65</td><td> 3511000</td><td>345.65</td></tr>\n",
       "\t<tr><td>PANW</td><td>2024-01-23</td><td>345.57</td><td>346.00</td><td>338.32</td><td>344.18</td><td> 3022500</td><td>344.18</td></tr>\n",
       "\t<tr><td>PANW</td><td>2024-01-24</td><td>347.82</td><td>347.99</td><td>339.84</td><td>340.24</td><td> 2927100</td><td>340.24</td></tr>\n",
       "\t<tr><td>PANW</td><td>2024-01-25</td><td>344.46</td><td>344.46</td><td>336.57</td><td>340.19</td><td> 3455000</td><td>340.19</td></tr>\n",
       "\t<tr><td>PANW</td><td>2024-01-26</td><td>340.00</td><td>344.30</td><td>338.06</td><td>342.44</td><td> 2165600</td><td>342.44</td></tr>\n",
       "\t<tr><td>PANW</td><td>2024-01-29</td><td>341.99</td><td>345.49</td><td>340.77</td><td>345.25</td><td> 2619100</td><td>345.25</td></tr>\n",
       "\t<tr><td>PANW</td><td>2024-01-30</td><td>344.83</td><td>347.63</td><td>342.76</td><td>345.89</td><td> 1744200</td><td>345.89</td></tr>\n",
       "\t<tr><td>PANW</td><td>2024-01-31</td><td>342.23</td><td>343.99</td><td>332.67</td><td>338.51</td><td> 2484300</td><td>338.51</td></tr>\n",
       "\t<tr><td>PANW</td><td>2024-02-01</td><td>339.00</td><td>340.45</td><td>335.44</td><td>339.97</td><td> 2175500</td><td>339.97</td></tr>\n",
       "\t<tr><td>PANW</td><td>2024-02-02</td><td>339.56</td><td>346.43</td><td>339.00</td><td>345.06</td><td> 2539600</td><td>345.06</td></tr>\n",
       "\t<tr><td>PANW</td><td>2024-02-05</td><td>344.28</td><td>345.50</td><td>337.94</td><td>344.48</td><td> 2670300</td><td>344.48</td></tr>\n",
       "\t<tr><td>PANW</td><td>2024-02-06</td><td>345.49</td><td>347.75</td><td>336.00</td><td>341.49</td><td> 2741600</td><td>341.49</td></tr>\n",
       "\t<tr><td>PANW</td><td>2024-02-07</td><td>351.40</td><td>366.14</td><td>349.40</td><td>364.50</td><td> 6581600</td><td>364.50</td></tr>\n",
       "\t<tr><td>PANW</td><td>2024-02-08</td><td>363.22</td><td>371.72</td><td>363.00</td><td>367.02</td><td> 2958200</td><td>367.02</td></tr>\n",
       "\t<tr><td>PANW</td><td>2024-02-09</td><td>373.05</td><td>380.84</td><td>369.00</td><td>376.90</td><td> 3501000</td><td>376.90</td></tr>\n",
       "\t<tr><td>PANW</td><td>2024-02-12</td><td>375.45</td><td>376.30</td><td>367.53</td><td>371.97</td><td> 2868500</td><td>371.97</td></tr>\n",
       "\t<tr><td>PANW</td><td>2024-02-13</td><td>359.12</td><td>374.38</td><td>353.81</td><td>368.26</td><td> 7842200</td><td>368.26</td></tr>\n",
       "\t<tr><td>PANW</td><td>2024-02-14</td><td>368.81</td><td>375.17</td><td>366.13</td><td>368.33</td><td> 3093700</td><td>368.33</td></tr>\n",
       "\t<tr><td>PANW</td><td>2024-02-15</td><td>368.18</td><td>369.79</td><td>361.62</td><td>366.88</td><td> 2717600</td><td>366.88</td></tr>\n",
       "\t<tr><td>PANW</td><td>2024-02-16</td><td>369.50</td><td>370.99</td><td>362.05</td><td>366.41</td><td> 3258100</td><td>366.41</td></tr>\n",
       "\t<tr><td>PANW</td><td>2024-02-20</td><td>362.85</td><td>369.29</td><td>359.82</td><td>366.09</td><td>10458800</td><td>366.09</td></tr>\n",
       "\t<tr><td>PANW</td><td>2024-02-21</td><td>275.20</td><td>275.98</td><td>260.09</td><td>261.97</td><td>43937300</td><td>261.97</td></tr>\n",
       "\t<tr><td>PANW</td><td>2024-02-22</td><td>274.13</td><td>276.81</td><td>265.00</td><td>267.82</td><td>19297300</td><td>267.82</td></tr>\n",
       "</tbody>\n",
       "</table>\n"
      ],
      "text/latex": [
       "A tibble: 2916 × 8\n",
       "\\begin{tabular}{llllllll}\n",
       " symbol & date & open & high & low & close & volume & adjusted\\\\\n",
       " <chr> & <date> & <dbl> & <dbl> & <dbl> & <dbl> & <dbl> & <dbl>\\\\\n",
       "\\hline\n",
       "\t PANW & 2012-07-20 & 18.38333 & 20.69000 & 17.70000 & 17.71000 & 21048300 & 17.71000\\\\\n",
       "\t PANW & 2012-07-23 & 17.53333 & 18.00000 & 17.03333 & 17.17000 &  2365200 & 17.17000\\\\\n",
       "\t PANW & 2012-07-24 & 17.33333 & 18.66667 & 17.17333 & 18.50000 &  2150400 & 18.50000\\\\\n",
       "\t PANW & 2012-07-25 & 18.83333 & 19.66667 & 18.43333 & 19.65000 &  1799100 & 19.65000\\\\\n",
       "\t PANW & 2012-07-26 & 19.92667 & 20.61667 & 19.36000 & 19.96000 &  1283400 & 19.96000\\\\\n",
       "\t PANW & 2012-07-27 & 20.29333 & 20.29333 & 19.00000 & 19.00000 &   460200 & 19.00000\\\\\n",
       "\t PANW & 2012-07-30 & 18.95333 & 18.95333 & 17.97333 & 18.33333 &   829200 & 18.33333\\\\\n",
       "\t PANW & 2012-07-31 & 18.33333 & 19.04667 & 17.40333 & 19.04667 &   856200 & 19.04667\\\\\n",
       "\t PANW & 2012-08-01 & 19.57333 & 19.57333 & 18.38000 & 18.72667 &   332700 & 18.72667\\\\\n",
       "\t PANW & 2012-08-02 & 18.56000 & 20.00000 & 17.75667 & 18.36667 &   498000 & 18.36667\\\\\n",
       "\t PANW & 2012-08-03 & 18.88333 & 18.96667 & 18.08333 & 18.26333 &   872700 & 18.26333\\\\\n",
       "\t PANW & 2012-08-06 & 18.56667 & 18.64000 & 17.89333 & 18.26000 &   468900 & 18.26000\\\\\n",
       "\t PANW & 2012-08-07 & 18.33333 & 19.14667 & 18.17333 & 18.93333 &  1097400 & 18.93333\\\\\n",
       "\t PANW & 2012-08-08 & 18.73333 & 20.33333 & 18.62333 & 20.31000 &  1511700 & 20.31000\\\\\n",
       "\t PANW & 2012-08-09 & 20.33333 & 20.82000 & 19.95333 & 20.44333 &   878100 & 20.44333\\\\\n",
       "\t PANW & 2012-08-10 & 20.33333 & 21.32333 & 20.16333 & 20.44000 &   855300 & 20.44000\\\\\n",
       "\t PANW & 2012-08-13 & 20.36667 & 21.02667 & 20.00000 & 20.90667 &   666000 & 20.90667\\\\\n",
       "\t PANW & 2012-08-14 & 21.37667 & 21.45333 & 19.77667 & 19.93333 &  1421100 & 19.93333\\\\\n",
       "\t PANW & 2012-08-15 & 19.86667 & 20.96667 & 19.23333 & 20.91000 &   761400 & 20.91000\\\\\n",
       "\t PANW & 2012-08-16 & 21.16667 & 22.30333 & 20.62333 & 22.16667 &  1115400 & 22.16667\\\\\n",
       "\t PANW & 2012-08-17 & 22.36667 & 22.83333 & 21.61333 & 22.43000 &  1153800 & 22.43000\\\\\n",
       "\t PANW & 2012-08-20 & 22.26000 & 22.38333 & 21.65667 & 21.82333 &   810000 & 21.82333\\\\\n",
       "\t PANW & 2012-08-21 & 21.82667 & 22.14333 & 21.09333 & 21.44000 &   742800 & 21.44000\\\\\n",
       "\t PANW & 2012-08-22 & 21.68667 & 21.72333 & 21.04000 & 21.08333 &   373800 & 21.08333\\\\\n",
       "\t PANW & 2012-08-23 & 21.06667 & 21.62667 & 20.83333 & 21.38000 &   645900 & 21.38000\\\\\n",
       "\t PANW & 2012-08-24 & 21.15000 & 21.92333 & 21.08333 & 21.59000 &   608700 & 21.59000\\\\\n",
       "\t PANW & 2012-08-27 & 21.68333 & 21.94667 & 20.87333 & 21.23000 &   531000 & 21.23000\\\\\n",
       "\t PANW & 2012-08-28 & 21.23333 & 21.47000 & 20.97000 & 21.30000 &   312600 & 21.30000\\\\\n",
       "\t PANW & 2012-08-29 & 21.40667 & 21.70000 & 21.03333 & 21.57667 &   486000 & 21.57667\\\\\n",
       "\t PANW & 2012-08-30 & 21.57000 & 22.22333 & 21.09000 & 21.14333 &   689700 & 21.14333\\\\\n",
       "\t ⋮ & ⋮ & ⋮ & ⋮ & ⋮ & ⋮ & ⋮ & ⋮\\\\\n",
       "\t PANW & 2024-01-10 & 305.20 & 316.49 & 305.10 & 316.09 &  5080800 & 316.09\\\\\n",
       "\t PANW & 2024-01-11 & 320.53 & 325.37 & 316.52 & 323.49 &  5000700 & 323.49\\\\\n",
       "\t PANW & 2024-01-12 & 324.51 & 330.40 & 321.40 & 325.24 &  3191100 & 325.24\\\\\n",
       "\t PANW & 2024-01-16 & 328.30 & 333.30 & 325.50 & 332.05 &  3758400 & 332.05\\\\\n",
       "\t PANW & 2024-01-17 & 330.54 & 332.47 & 322.61 & 330.06 &  3932200 & 330.06\\\\\n",
       "\t PANW & 2024-01-18 & 336.41 & 338.59 & 332.56 & 335.77 &  3598700 & 335.77\\\\\n",
       "\t PANW & 2024-01-19 & 339.53 & 340.40 & 334.31 & 337.74 &  2917600 & 337.74\\\\\n",
       "\t PANW & 2024-01-22 & 346.29 & 350.60 & 342.45 & 345.65 &  3511000 & 345.65\\\\\n",
       "\t PANW & 2024-01-23 & 345.57 & 346.00 & 338.32 & 344.18 &  3022500 & 344.18\\\\\n",
       "\t PANW & 2024-01-24 & 347.82 & 347.99 & 339.84 & 340.24 &  2927100 & 340.24\\\\\n",
       "\t PANW & 2024-01-25 & 344.46 & 344.46 & 336.57 & 340.19 &  3455000 & 340.19\\\\\n",
       "\t PANW & 2024-01-26 & 340.00 & 344.30 & 338.06 & 342.44 &  2165600 & 342.44\\\\\n",
       "\t PANW & 2024-01-29 & 341.99 & 345.49 & 340.77 & 345.25 &  2619100 & 345.25\\\\\n",
       "\t PANW & 2024-01-30 & 344.83 & 347.63 & 342.76 & 345.89 &  1744200 & 345.89\\\\\n",
       "\t PANW & 2024-01-31 & 342.23 & 343.99 & 332.67 & 338.51 &  2484300 & 338.51\\\\\n",
       "\t PANW & 2024-02-01 & 339.00 & 340.45 & 335.44 & 339.97 &  2175500 & 339.97\\\\\n",
       "\t PANW & 2024-02-02 & 339.56 & 346.43 & 339.00 & 345.06 &  2539600 & 345.06\\\\\n",
       "\t PANW & 2024-02-05 & 344.28 & 345.50 & 337.94 & 344.48 &  2670300 & 344.48\\\\\n",
       "\t PANW & 2024-02-06 & 345.49 & 347.75 & 336.00 & 341.49 &  2741600 & 341.49\\\\\n",
       "\t PANW & 2024-02-07 & 351.40 & 366.14 & 349.40 & 364.50 &  6581600 & 364.50\\\\\n",
       "\t PANW & 2024-02-08 & 363.22 & 371.72 & 363.00 & 367.02 &  2958200 & 367.02\\\\\n",
       "\t PANW & 2024-02-09 & 373.05 & 380.84 & 369.00 & 376.90 &  3501000 & 376.90\\\\\n",
       "\t PANW & 2024-02-12 & 375.45 & 376.30 & 367.53 & 371.97 &  2868500 & 371.97\\\\\n",
       "\t PANW & 2024-02-13 & 359.12 & 374.38 & 353.81 & 368.26 &  7842200 & 368.26\\\\\n",
       "\t PANW & 2024-02-14 & 368.81 & 375.17 & 366.13 & 368.33 &  3093700 & 368.33\\\\\n",
       "\t PANW & 2024-02-15 & 368.18 & 369.79 & 361.62 & 366.88 &  2717600 & 366.88\\\\\n",
       "\t PANW & 2024-02-16 & 369.50 & 370.99 & 362.05 & 366.41 &  3258100 & 366.41\\\\\n",
       "\t PANW & 2024-02-20 & 362.85 & 369.29 & 359.82 & 366.09 & 10458800 & 366.09\\\\\n",
       "\t PANW & 2024-02-21 & 275.20 & 275.98 & 260.09 & 261.97 & 43937300 & 261.97\\\\\n",
       "\t PANW & 2024-02-22 & 274.13 & 276.81 & 265.00 & 267.82 & 19297300 & 267.82\\\\\n",
       "\\end{tabular}\n"
      ],
      "text/markdown": [
       "\n",
       "A tibble: 2916 × 8\n",
       "\n",
       "| symbol &lt;chr&gt; | date &lt;date&gt; | open &lt;dbl&gt; | high &lt;dbl&gt; | low &lt;dbl&gt; | close &lt;dbl&gt; | volume &lt;dbl&gt; | adjusted &lt;dbl&gt; |\n",
       "|---|---|---|---|---|---|---|---|\n",
       "| PANW | 2012-07-20 | 18.38333 | 20.69000 | 17.70000 | 17.71000 | 21048300 | 17.71000 |\n",
       "| PANW | 2012-07-23 | 17.53333 | 18.00000 | 17.03333 | 17.17000 |  2365200 | 17.17000 |\n",
       "| PANW | 2012-07-24 | 17.33333 | 18.66667 | 17.17333 | 18.50000 |  2150400 | 18.50000 |\n",
       "| PANW | 2012-07-25 | 18.83333 | 19.66667 | 18.43333 | 19.65000 |  1799100 | 19.65000 |\n",
       "| PANW | 2012-07-26 | 19.92667 | 20.61667 | 19.36000 | 19.96000 |  1283400 | 19.96000 |\n",
       "| PANW | 2012-07-27 | 20.29333 | 20.29333 | 19.00000 | 19.00000 |   460200 | 19.00000 |\n",
       "| PANW | 2012-07-30 | 18.95333 | 18.95333 | 17.97333 | 18.33333 |   829200 | 18.33333 |\n",
       "| PANW | 2012-07-31 | 18.33333 | 19.04667 | 17.40333 | 19.04667 |   856200 | 19.04667 |\n",
       "| PANW | 2012-08-01 | 19.57333 | 19.57333 | 18.38000 | 18.72667 |   332700 | 18.72667 |\n",
       "| PANW | 2012-08-02 | 18.56000 | 20.00000 | 17.75667 | 18.36667 |   498000 | 18.36667 |\n",
       "| PANW | 2012-08-03 | 18.88333 | 18.96667 | 18.08333 | 18.26333 |   872700 | 18.26333 |\n",
       "| PANW | 2012-08-06 | 18.56667 | 18.64000 | 17.89333 | 18.26000 |   468900 | 18.26000 |\n",
       "| PANW | 2012-08-07 | 18.33333 | 19.14667 | 18.17333 | 18.93333 |  1097400 | 18.93333 |\n",
       "| PANW | 2012-08-08 | 18.73333 | 20.33333 | 18.62333 | 20.31000 |  1511700 | 20.31000 |\n",
       "| PANW | 2012-08-09 | 20.33333 | 20.82000 | 19.95333 | 20.44333 |   878100 | 20.44333 |\n",
       "| PANW | 2012-08-10 | 20.33333 | 21.32333 | 20.16333 | 20.44000 |   855300 | 20.44000 |\n",
       "| PANW | 2012-08-13 | 20.36667 | 21.02667 | 20.00000 | 20.90667 |   666000 | 20.90667 |\n",
       "| PANW | 2012-08-14 | 21.37667 | 21.45333 | 19.77667 | 19.93333 |  1421100 | 19.93333 |\n",
       "| PANW | 2012-08-15 | 19.86667 | 20.96667 | 19.23333 | 20.91000 |   761400 | 20.91000 |\n",
       "| PANW | 2012-08-16 | 21.16667 | 22.30333 | 20.62333 | 22.16667 |  1115400 | 22.16667 |\n",
       "| PANW | 2012-08-17 | 22.36667 | 22.83333 | 21.61333 | 22.43000 |  1153800 | 22.43000 |\n",
       "| PANW | 2012-08-20 | 22.26000 | 22.38333 | 21.65667 | 21.82333 |   810000 | 21.82333 |\n",
       "| PANW | 2012-08-21 | 21.82667 | 22.14333 | 21.09333 | 21.44000 |   742800 | 21.44000 |\n",
       "| PANW | 2012-08-22 | 21.68667 | 21.72333 | 21.04000 | 21.08333 |   373800 | 21.08333 |\n",
       "| PANW | 2012-08-23 | 21.06667 | 21.62667 | 20.83333 | 21.38000 |   645900 | 21.38000 |\n",
       "| PANW | 2012-08-24 | 21.15000 | 21.92333 | 21.08333 | 21.59000 |   608700 | 21.59000 |\n",
       "| PANW | 2012-08-27 | 21.68333 | 21.94667 | 20.87333 | 21.23000 |   531000 | 21.23000 |\n",
       "| PANW | 2012-08-28 | 21.23333 | 21.47000 | 20.97000 | 21.30000 |   312600 | 21.30000 |\n",
       "| PANW | 2012-08-29 | 21.40667 | 21.70000 | 21.03333 | 21.57667 |   486000 | 21.57667 |\n",
       "| PANW | 2012-08-30 | 21.57000 | 22.22333 | 21.09000 | 21.14333 |   689700 | 21.14333 |\n",
       "| ⋮ | ⋮ | ⋮ | ⋮ | ⋮ | ⋮ | ⋮ | ⋮ |\n",
       "| PANW | 2024-01-10 | 305.20 | 316.49 | 305.10 | 316.09 |  5080800 | 316.09 |\n",
       "| PANW | 2024-01-11 | 320.53 | 325.37 | 316.52 | 323.49 |  5000700 | 323.49 |\n",
       "| PANW | 2024-01-12 | 324.51 | 330.40 | 321.40 | 325.24 |  3191100 | 325.24 |\n",
       "| PANW | 2024-01-16 | 328.30 | 333.30 | 325.50 | 332.05 |  3758400 | 332.05 |\n",
       "| PANW | 2024-01-17 | 330.54 | 332.47 | 322.61 | 330.06 |  3932200 | 330.06 |\n",
       "| PANW | 2024-01-18 | 336.41 | 338.59 | 332.56 | 335.77 |  3598700 | 335.77 |\n",
       "| PANW | 2024-01-19 | 339.53 | 340.40 | 334.31 | 337.74 |  2917600 | 337.74 |\n",
       "| PANW | 2024-01-22 | 346.29 | 350.60 | 342.45 | 345.65 |  3511000 | 345.65 |\n",
       "| PANW | 2024-01-23 | 345.57 | 346.00 | 338.32 | 344.18 |  3022500 | 344.18 |\n",
       "| PANW | 2024-01-24 | 347.82 | 347.99 | 339.84 | 340.24 |  2927100 | 340.24 |\n",
       "| PANW | 2024-01-25 | 344.46 | 344.46 | 336.57 | 340.19 |  3455000 | 340.19 |\n",
       "| PANW | 2024-01-26 | 340.00 | 344.30 | 338.06 | 342.44 |  2165600 | 342.44 |\n",
       "| PANW | 2024-01-29 | 341.99 | 345.49 | 340.77 | 345.25 |  2619100 | 345.25 |\n",
       "| PANW | 2024-01-30 | 344.83 | 347.63 | 342.76 | 345.89 |  1744200 | 345.89 |\n",
       "| PANW | 2024-01-31 | 342.23 | 343.99 | 332.67 | 338.51 |  2484300 | 338.51 |\n",
       "| PANW | 2024-02-01 | 339.00 | 340.45 | 335.44 | 339.97 |  2175500 | 339.97 |\n",
       "| PANW | 2024-02-02 | 339.56 | 346.43 | 339.00 | 345.06 |  2539600 | 345.06 |\n",
       "| PANW | 2024-02-05 | 344.28 | 345.50 | 337.94 | 344.48 |  2670300 | 344.48 |\n",
       "| PANW | 2024-02-06 | 345.49 | 347.75 | 336.00 | 341.49 |  2741600 | 341.49 |\n",
       "| PANW | 2024-02-07 | 351.40 | 366.14 | 349.40 | 364.50 |  6581600 | 364.50 |\n",
       "| PANW | 2024-02-08 | 363.22 | 371.72 | 363.00 | 367.02 |  2958200 | 367.02 |\n",
       "| PANW | 2024-02-09 | 373.05 | 380.84 | 369.00 | 376.90 |  3501000 | 376.90 |\n",
       "| PANW | 2024-02-12 | 375.45 | 376.30 | 367.53 | 371.97 |  2868500 | 371.97 |\n",
       "| PANW | 2024-02-13 | 359.12 | 374.38 | 353.81 | 368.26 |  7842200 | 368.26 |\n",
       "| PANW | 2024-02-14 | 368.81 | 375.17 | 366.13 | 368.33 |  3093700 | 368.33 |\n",
       "| PANW | 2024-02-15 | 368.18 | 369.79 | 361.62 | 366.88 |  2717600 | 366.88 |\n",
       "| PANW | 2024-02-16 | 369.50 | 370.99 | 362.05 | 366.41 |  3258100 | 366.41 |\n",
       "| PANW | 2024-02-20 | 362.85 | 369.29 | 359.82 | 366.09 | 10458800 | 366.09 |\n",
       "| PANW | 2024-02-21 | 275.20 | 275.98 | 260.09 | 261.97 | 43937300 | 261.97 |\n",
       "| PANW | 2024-02-22 | 274.13 | 276.81 | 265.00 | 267.82 | 19297300 | 267.82 |\n",
       "\n"
      ],
      "text/plain": [
       "     symbol date       open     high     low      close    volume   adjusted\n",
       "1    PANW   2012-07-20 18.38333 20.69000 17.70000 17.71000 21048300 17.71000\n",
       "2    PANW   2012-07-23 17.53333 18.00000 17.03333 17.17000  2365200 17.17000\n",
       "3    PANW   2012-07-24 17.33333 18.66667 17.17333 18.50000  2150400 18.50000\n",
       "4    PANW   2012-07-25 18.83333 19.66667 18.43333 19.65000  1799100 19.65000\n",
       "5    PANW   2012-07-26 19.92667 20.61667 19.36000 19.96000  1283400 19.96000\n",
       "6    PANW   2012-07-27 20.29333 20.29333 19.00000 19.00000   460200 19.00000\n",
       "7    PANW   2012-07-30 18.95333 18.95333 17.97333 18.33333   829200 18.33333\n",
       "8    PANW   2012-07-31 18.33333 19.04667 17.40333 19.04667   856200 19.04667\n",
       "9    PANW   2012-08-01 19.57333 19.57333 18.38000 18.72667   332700 18.72667\n",
       "10   PANW   2012-08-02 18.56000 20.00000 17.75667 18.36667   498000 18.36667\n",
       "11   PANW   2012-08-03 18.88333 18.96667 18.08333 18.26333   872700 18.26333\n",
       "12   PANW   2012-08-06 18.56667 18.64000 17.89333 18.26000   468900 18.26000\n",
       "13   PANW   2012-08-07 18.33333 19.14667 18.17333 18.93333  1097400 18.93333\n",
       "14   PANW   2012-08-08 18.73333 20.33333 18.62333 20.31000  1511700 20.31000\n",
       "15   PANW   2012-08-09 20.33333 20.82000 19.95333 20.44333   878100 20.44333\n",
       "16   PANW   2012-08-10 20.33333 21.32333 20.16333 20.44000   855300 20.44000\n",
       "17   PANW   2012-08-13 20.36667 21.02667 20.00000 20.90667   666000 20.90667\n",
       "18   PANW   2012-08-14 21.37667 21.45333 19.77667 19.93333  1421100 19.93333\n",
       "19   PANW   2012-08-15 19.86667 20.96667 19.23333 20.91000   761400 20.91000\n",
       "20   PANW   2012-08-16 21.16667 22.30333 20.62333 22.16667  1115400 22.16667\n",
       "21   PANW   2012-08-17 22.36667 22.83333 21.61333 22.43000  1153800 22.43000\n",
       "22   PANW   2012-08-20 22.26000 22.38333 21.65667 21.82333   810000 21.82333\n",
       "23   PANW   2012-08-21 21.82667 22.14333 21.09333 21.44000   742800 21.44000\n",
       "24   PANW   2012-08-22 21.68667 21.72333 21.04000 21.08333   373800 21.08333\n",
       "25   PANW   2012-08-23 21.06667 21.62667 20.83333 21.38000   645900 21.38000\n",
       "26   PANW   2012-08-24 21.15000 21.92333 21.08333 21.59000   608700 21.59000\n",
       "27   PANW   2012-08-27 21.68333 21.94667 20.87333 21.23000   531000 21.23000\n",
       "28   PANW   2012-08-28 21.23333 21.47000 20.97000 21.30000   312600 21.30000\n",
       "29   PANW   2012-08-29 21.40667 21.70000 21.03333 21.57667   486000 21.57667\n",
       "30   PANW   2012-08-30 21.57000 22.22333 21.09000 21.14333   689700 21.14333\n",
       "⋮    ⋮      ⋮          ⋮        ⋮        ⋮        ⋮        ⋮        ⋮       \n",
       "2887 PANW   2024-01-10 305.20   316.49   305.10   316.09    5080800 316.09  \n",
       "2888 PANW   2024-01-11 320.53   325.37   316.52   323.49    5000700 323.49  \n",
       "2889 PANW   2024-01-12 324.51   330.40   321.40   325.24    3191100 325.24  \n",
       "2890 PANW   2024-01-16 328.30   333.30   325.50   332.05    3758400 332.05  \n",
       "2891 PANW   2024-01-17 330.54   332.47   322.61   330.06    3932200 330.06  \n",
       "2892 PANW   2024-01-18 336.41   338.59   332.56   335.77    3598700 335.77  \n",
       "2893 PANW   2024-01-19 339.53   340.40   334.31   337.74    2917600 337.74  \n",
       "2894 PANW   2024-01-22 346.29   350.60   342.45   345.65    3511000 345.65  \n",
       "2895 PANW   2024-01-23 345.57   346.00   338.32   344.18    3022500 344.18  \n",
       "2896 PANW   2024-01-24 347.82   347.99   339.84   340.24    2927100 340.24  \n",
       "2897 PANW   2024-01-25 344.46   344.46   336.57   340.19    3455000 340.19  \n",
       "2898 PANW   2024-01-26 340.00   344.30   338.06   342.44    2165600 342.44  \n",
       "2899 PANW   2024-01-29 341.99   345.49   340.77   345.25    2619100 345.25  \n",
       "2900 PANW   2024-01-30 344.83   347.63   342.76   345.89    1744200 345.89  \n",
       "2901 PANW   2024-01-31 342.23   343.99   332.67   338.51    2484300 338.51  \n",
       "2902 PANW   2024-02-01 339.00   340.45   335.44   339.97    2175500 339.97  \n",
       "2903 PANW   2024-02-02 339.56   346.43   339.00   345.06    2539600 345.06  \n",
       "2904 PANW   2024-02-05 344.28   345.50   337.94   344.48    2670300 344.48  \n",
       "2905 PANW   2024-02-06 345.49   347.75   336.00   341.49    2741600 341.49  \n",
       "2906 PANW   2024-02-07 351.40   366.14   349.40   364.50    6581600 364.50  \n",
       "2907 PANW   2024-02-08 363.22   371.72   363.00   367.02    2958200 367.02  \n",
       "2908 PANW   2024-02-09 373.05   380.84   369.00   376.90    3501000 376.90  \n",
       "2909 PANW   2024-02-12 375.45   376.30   367.53   371.97    2868500 371.97  \n",
       "2910 PANW   2024-02-13 359.12   374.38   353.81   368.26    7842200 368.26  \n",
       "2911 PANW   2024-02-14 368.81   375.17   366.13   368.33    3093700 368.33  \n",
       "2912 PANW   2024-02-15 368.18   369.79   361.62   366.88    2717600 366.88  \n",
       "2913 PANW   2024-02-16 369.50   370.99   362.05   366.41    3258100 366.41  \n",
       "2914 PANW   2024-02-20 362.85   369.29   359.82   366.09   10458800 366.09  \n",
       "2915 PANW   2024-02-21 275.20   275.98   260.09   261.97   43937300 261.97  \n",
       "2916 PANW   2024-02-22 274.13   276.81   265.00   267.82   19297300 267.82  "
      ]
     },
     "metadata": {},
     "output_type": "display_data"
    }
   ],
   "source": [
    "# Getting historical price data for the PANW Stock from Yahoo Finance\n",
    "\n",
    "getSymbols(\"PANW\", from='2012-07-20', to='2024-02-23', warnings=FALSE, auto.assign=TRUE)\n",
    "\n",
    "mydata <- tq_get('PANW', from='2012-07-20', to='2024-02-23', get='stock.prices')\n",
    "\n",
    "panw = mydata\n",
    "mydata"
   ]
  },
  {
   "cell_type": "code",
   "execution_count": 4,
   "id": "6a1d0a05-7a66-4f16-b2e0-d1a6372672cb",
   "metadata": {},
   "outputs": [
    {
     "data": {
      "text/html": [
       "<table class=\"dataframe\">\n",
       "<caption>A tibble: 6 × 9</caption>\n",
       "<thead>\n",
       "\t<tr><th scope=col>symbol</th><th scope=col>date</th><th scope=col>open</th><th scope=col>high</th><th scope=col>low</th><th scope=col>close</th><th scope=col>volume</th><th scope=col>adjusted</th><th scope=col>log_close</th></tr>\n",
       "\t<tr><th scope=col>&lt;chr&gt;</th><th scope=col>&lt;date&gt;</th><th scope=col>&lt;dbl&gt;</th><th scope=col>&lt;dbl&gt;</th><th scope=col>&lt;dbl&gt;</th><th scope=col>&lt;dbl&gt;</th><th scope=col>&lt;dbl&gt;</th><th scope=col>&lt;dbl&gt;</th><th scope=col>&lt;dbl&gt;</th></tr>\n",
       "</thead>\n",
       "<tbody>\n",
       "\t<tr><td>PANW</td><td>2012-07-20</td><td>18.38333</td><td>20.69000</td><td>17.70000</td><td>17.71</td><td>21048300</td><td>17.71</td><td>2.874129</td></tr>\n",
       "\t<tr><td>PANW</td><td>2012-07-23</td><td>17.53333</td><td>18.00000</td><td>17.03333</td><td>17.17</td><td> 2365200</td><td>17.17</td><td>2.843164</td></tr>\n",
       "\t<tr><td>PANW</td><td>2012-07-24</td><td>17.33333</td><td>18.66667</td><td>17.17333</td><td>18.50</td><td> 2150400</td><td>18.50</td><td>2.917771</td></tr>\n",
       "\t<tr><td>PANW</td><td>2012-07-25</td><td>18.83333</td><td>19.66667</td><td>18.43333</td><td>19.65</td><td> 1799100</td><td>19.65</td><td>2.978077</td></tr>\n",
       "\t<tr><td>PANW</td><td>2012-07-26</td><td>19.92667</td><td>20.61667</td><td>19.36000</td><td>19.96</td><td> 1283400</td><td>19.96</td><td>2.993730</td></tr>\n",
       "\t<tr><td>PANW</td><td>2012-07-27</td><td>20.29333</td><td>20.29333</td><td>19.00000</td><td>19.00</td><td>  460200</td><td>19.00</td><td>2.944439</td></tr>\n",
       "</tbody>\n",
       "</table>\n"
      ],
      "text/latex": [
       "A tibble: 6 × 9\n",
       "\\begin{tabular}{lllllllll}\n",
       " symbol & date & open & high & low & close & volume & adjusted & log\\_close\\\\\n",
       " <chr> & <date> & <dbl> & <dbl> & <dbl> & <dbl> & <dbl> & <dbl> & <dbl>\\\\\n",
       "\\hline\n",
       "\t PANW & 2012-07-20 & 18.38333 & 20.69000 & 17.70000 & 17.71 & 21048300 & 17.71 & 2.874129\\\\\n",
       "\t PANW & 2012-07-23 & 17.53333 & 18.00000 & 17.03333 & 17.17 &  2365200 & 17.17 & 2.843164\\\\\n",
       "\t PANW & 2012-07-24 & 17.33333 & 18.66667 & 17.17333 & 18.50 &  2150400 & 18.50 & 2.917771\\\\\n",
       "\t PANW & 2012-07-25 & 18.83333 & 19.66667 & 18.43333 & 19.65 &  1799100 & 19.65 & 2.978077\\\\\n",
       "\t PANW & 2012-07-26 & 19.92667 & 20.61667 & 19.36000 & 19.96 &  1283400 & 19.96 & 2.993730\\\\\n",
       "\t PANW & 2012-07-27 & 20.29333 & 20.29333 & 19.00000 & 19.00 &   460200 & 19.00 & 2.944439\\\\\n",
       "\\end{tabular}\n"
      ],
      "text/markdown": [
       "\n",
       "A tibble: 6 × 9\n",
       "\n",
       "| symbol &lt;chr&gt; | date &lt;date&gt; | open &lt;dbl&gt; | high &lt;dbl&gt; | low &lt;dbl&gt; | close &lt;dbl&gt; | volume &lt;dbl&gt; | adjusted &lt;dbl&gt; | log_close &lt;dbl&gt; |\n",
       "|---|---|---|---|---|---|---|---|---|\n",
       "| PANW | 2012-07-20 | 18.38333 | 20.69000 | 17.70000 | 17.71 | 21048300 | 17.71 | 2.874129 |\n",
       "| PANW | 2012-07-23 | 17.53333 | 18.00000 | 17.03333 | 17.17 |  2365200 | 17.17 | 2.843164 |\n",
       "| PANW | 2012-07-24 | 17.33333 | 18.66667 | 17.17333 | 18.50 |  2150400 | 18.50 | 2.917771 |\n",
       "| PANW | 2012-07-25 | 18.83333 | 19.66667 | 18.43333 | 19.65 |  1799100 | 19.65 | 2.978077 |\n",
       "| PANW | 2012-07-26 | 19.92667 | 20.61667 | 19.36000 | 19.96 |  1283400 | 19.96 | 2.993730 |\n",
       "| PANW | 2012-07-27 | 20.29333 | 20.29333 | 19.00000 | 19.00 |   460200 | 19.00 | 2.944439 |\n",
       "\n"
      ],
      "text/plain": [
       "  symbol date       open     high     low      close volume   adjusted\n",
       "1 PANW   2012-07-20 18.38333 20.69000 17.70000 17.71 21048300 17.71   \n",
       "2 PANW   2012-07-23 17.53333 18.00000 17.03333 17.17  2365200 17.17   \n",
       "3 PANW   2012-07-24 17.33333 18.66667 17.17333 18.50  2150400 18.50   \n",
       "4 PANW   2012-07-25 18.83333 19.66667 18.43333 19.65  1799100 19.65   \n",
       "5 PANW   2012-07-26 19.92667 20.61667 19.36000 19.96  1283400 19.96   \n",
       "6 PANW   2012-07-27 20.29333 20.29333 19.00000 19.00   460200 19.00   \n",
       "  log_close\n",
       "1 2.874129 \n",
       "2 2.843164 \n",
       "3 2.917771 \n",
       "4 2.978077 \n",
       "5 2.993730 \n",
       "6 2.944439 "
      ]
     },
     "metadata": {},
     "output_type": "display_data"
    }
   ],
   "source": [
    "# We add another column to the dataframe containing log prices\n",
    "mydata$log_close = log(mydata$close)\n",
    "\n",
    "# Check the first few rows of the updated dataframe\n",
    "head(mydata)"
   ]
  },
  {
   "cell_type": "code",
   "execution_count": 5,
   "id": "954441ce-32bb-46fd-930b-baf240d17260",
   "metadata": {
    "scrolled": true
   },
   "outputs": [
    {
     "data": {
      "image/png": "[encoded data removed]",
      "text/plain": [
       "plot without title"
      ]
     },
     "metadata": {
      "image/png": {
       "height": 420,
       "width": 420
      }
     },
     "output_type": "display_data"
    }
   ],
   "source": [
    "# We will generate a line plot between the logarithm of the closing prices over time\n",
    "ggplot(mydata, aes(x = date, y = log_close)) + geom_line()"
   ]
  },
  {
   "cell_type": "markdown",
   "id": "04b9c4c4-b00c-4f60-b76c-8a9dee22403f",
   "metadata": {},
   "source": [
    "We calculate the log returns with this formula:\n",
    "$$\\text{returns}_t = \\log(\\text{close}_t) - \\log(\\text{close}_{t-1})$$\n",
    "We use *the logarithm of the closing prices* in order to stabilize the variance of the data and make it more interpretable.\n"
   ]
  },
  {
   "cell_type": "markdown",
   "id": "9e253729-b388-42b4-9f42-79eb26785c48",
   "metadata": {},
   "source": [
    "We will calculate the difference between consecutive elements of the log_close column and store it in the 'rets' variable.\n"
   ]
  },
  {
   "cell_type": "code",
   "execution_count": 19,
   "id": "057d29a1-b8e3-44ed-8e24-d72fd6c14520",
   "metadata": {},
   "outputs": [
    {
     "data": {
      "text/html": [
       "0.000931796137329579"
      ],
      "text/latex": [
       "0.000931796137329579"
      ],
      "text/markdown": [
       "0.000931796137329579"
      ],
      "text/plain": [
       "[1] 0.0009317961"
      ]
     },
     "metadata": {},
     "output_type": "display_data"
    }
   ],
   "source": [
    "rets <- diff(mydata$log_close, lags = 1)\n",
    "mean(rets)"
   ]
  },
  {
   "cell_type": "code",
   "execution_count": 7,
   "id": "4ea10714-3584-4048-849a-a9bd12da05f7",
   "metadata": {},
   "outputs": [
    {
     "data": {
      "text/html": [
       "0.000643046876249312"
      ],
      "text/latex": [
       "0.000643046876249312"
      ],
      "text/markdown": [
       "0.000643046876249312"
      ],
      "text/plain": [
       "[1] 0.0006430469"
      ]
     },
     "metadata": {},
     "output_type": "display_data"
    }
   ],
   "source": [
    "var(rets)"
   ]
  },
  {
   "cell_type": "code",
   "execution_count": 8,
   "id": "1a970089-7bb1-4a06-9b93-ca555fd66044",
   "metadata": {
    "scrolled": true
   },
   "outputs": [
    {
     "data": {
      "text/html": [
       "0.025358368958774"
      ],
      "text/latex": [
       "0.025358368958774"
      ],
      "text/markdown": [
       "0.025358368958774"
      ],
      "text/plain": [
       "[1] 0.02535837"
      ]
     },
     "metadata": {},
     "output_type": "display_data"
    }
   ],
   "source": [
    "sd(rets)"
   ]
  },
  {
   "cell_type": "code",
   "execution_count": 9,
   "id": "7006de86-5cac-44de-9e8f-fd7402efbf30",
   "metadata": {},
   "outputs": [
    {
     "data": {
      "text/html": [
       "<style>\n",
       ".dl-inline {width: auto; margin:0; padding: 0}\n",
       ".dl-inline>dt, .dl-inline>dd {float: none; width: auto; display: inline-block}\n",
       ".dl-inline>dt::after {content: \":\\0020\"; padding-right: .5ex}\n",
       ".dl-inline>dt:not(:first-of-type) {padding-left: .5ex}\n",
       "</style><dl class=dl-inline><dt>0%</dt><dd>-0.334649196760608</dd><dt>25%</dt><dd>-0.0104336496166089</dd><dt>50%</dt><dd>0.00121664457561099</dd><dt>75%</dt><dd>0.0133680775501588</dd><dt>100%</dt><dd>0.17059071630023</dd></dl>\n"
      ],
      "text/latex": [
       "\\begin{description*}\n",
       "\\item[0\\textbackslash{}\\%] -0.334649196760608\n",
       "\\item[25\\textbackslash{}\\%] -0.0104336496166089\n",
       "\\item[50\\textbackslash{}\\%] 0.00121664457561099\n",
       "\\item[75\\textbackslash{}\\%] 0.0133680775501588\n",
       "\\item[100\\textbackslash{}\\%] 0.17059071630023\n",
       "\\end{description*}\n"
      ],
      "text/markdown": [
       "0%\n",
       ":   -0.33464919676060825%\n",
       ":   -0.010433649616608950%\n",
       ":   0.0012166445756109975%\n",
       ":   0.0133680775501588100%\n",
       ":   0.17059071630023\n",
       "\n"
      ],
      "text/plain": [
       "          0%          25%          50%          75%         100% \n",
       "-0.334649197 -0.010433650  0.001216645  0.013368078  0.170590716 "
      ]
     },
     "metadata": {},
     "output_type": "display_data"
    }
   ],
   "source": [
    "quantile(rets)"
   ]
  },
  {
   "cell_type": "code",
   "execution_count": 10,
   "id": "2464f266-59ed-43d6-b2f7-2cb80be4323f",
   "metadata": {},
   "outputs": [
    {
     "data": {
      "text/html": [
       "0.00121664457561099"
      ],
      "text/latex": [
       "0.00121664457561099"
      ],
      "text/markdown": [
       "0.00121664457561099"
      ],
      "text/plain": [
       "[1] 0.001216645"
      ]
     },
     "metadata": {},
     "output_type": "display_data"
    }
   ],
   "source": [
    "median(rets)"
   ]
  },
  {
   "cell_type": "code",
   "execution_count": 11,
   "id": "632c9311-c938-4108-b00d-e0e5997b48cb",
   "metadata": {},
   "outputs": [
    {
     "data": {
      "text/html": [
       "<style>\n",
       ".list-inline {list-style: none; margin:0; padding: 0}\n",
       ".list-inline>li {display: inline-block}\n",
       ".list-inline>li:not(:last-child)::after {content: \"\\00b7\"; padding: 0 .5ex}\n",
       "</style>\n",
       "<ol class=list-inline><li>-0.0309657207464098</li><li>0.0746070527314502</li><li>0.0603065868177737</li><li>0.0156529061131607</li><li>-0.0492912458487731</li><li>-0.0357181519602134</li></ol>\n"
      ],
      "text/latex": [
       "\\begin{enumerate*}\n",
       "\\item -0.0309657207464098\n",
       "\\item 0.0746070527314502\n",
       "\\item 0.0603065868177737\n",
       "\\item 0.0156529061131607\n",
       "\\item -0.0492912458487731\n",
       "\\item -0.0357181519602134\n",
       "\\end{enumerate*}\n"
      ],
      "text/markdown": [
       "1. -0.0309657207464098\n",
       "2. 0.0746070527314502\n",
       "3. 0.0603065868177737\n",
       "4. 0.0156529061131607\n",
       "5. -0.0492912458487731\n",
       "6. -0.0357181519602134\n",
       "\n",
       "\n"
      ],
      "text/plain": [
       "[1] -0.03096572  0.07460705  0.06030659  0.01565291 -0.04929125 -0.03571815"
      ]
     },
     "metadata": {},
     "output_type": "display_data"
    }
   ],
   "source": [
    "head(rets)"
   ]
  },
  {
   "cell_type": "code",
   "execution_count": 12,
   "id": "417bdb11-4b5a-42f3-92a0-93ebd386bec5",
   "metadata": {
    "scrolled": true
   },
   "outputs": [
    {
     "data": {
      "text/html": [
       "<table class=\"dataframe\">\n",
       "<caption>A tibble: 2916 × 10</caption>\n",
       "<thead>\n",
       "\t<tr><th scope=col>symbol</th><th scope=col>date</th><th scope=col>open</th><th scope=col>high</th><th scope=col>low</th><th scope=col>close</th><th scope=col>volume</th><th scope=col>adjusted</th><th scope=col>log_close</th><th scope=col>returns</th></tr>\n",
       "\t<tr><th scope=col>&lt;chr&gt;</th><th scope=col>&lt;date&gt;</th><th scope=col>&lt;dbl&gt;</th><th scope=col>&lt;dbl&gt;</th><th scope=col>&lt;dbl&gt;</th><th scope=col>&lt;dbl&gt;</th><th scope=col>&lt;dbl&gt;</th><th scope=col>&lt;dbl&gt;</th><th scope=col>&lt;dbl&gt;</th><th scope=col>&lt;dbl&gt;</th></tr>\n",
       "</thead>\n",
       "<tbody>\n",
       "\t<tr><td>PANW</td><td>2012-07-20</td><td>18.38333</td><td>20.69000</td><td>17.70000</td><td>17.71000</td><td>21048300</td><td>17.71000</td><td>2.874129</td><td> 0.0000000000</td></tr>\n",
       "\t<tr><td>PANW</td><td>2012-07-23</td><td>17.53333</td><td>18.00000</td><td>17.03333</td><td>17.17000</td><td> 2365200</td><td>17.17000</td><td>2.843164</td><td>-0.0309657207</td></tr>\n",
       "\t<tr><td>PANW</td><td>2012-07-24</td><td>17.33333</td><td>18.66667</td><td>17.17333</td><td>18.50000</td><td> 2150400</td><td>18.50000</td><td>2.917771</td><td> 0.0746070527</td></tr>\n",
       "\t<tr><td>PANW</td><td>2012-07-25</td><td>18.83333</td><td>19.66667</td><td>18.43333</td><td>19.65000</td><td> 1799100</td><td>19.65000</td><td>2.978077</td><td> 0.0603065868</td></tr>\n",
       "\t<tr><td>PANW</td><td>2012-07-26</td><td>19.92667</td><td>20.61667</td><td>19.36000</td><td>19.96000</td><td> 1283400</td><td>19.96000</td><td>2.993730</td><td> 0.0156529061</td></tr>\n",
       "\t<tr><td>PANW</td><td>2012-07-27</td><td>20.29333</td><td>20.29333</td><td>19.00000</td><td>19.00000</td><td>  460200</td><td>19.00000</td><td>2.944439</td><td>-0.0492912458</td></tr>\n",
       "\t<tr><td>PANW</td><td>2012-07-30</td><td>18.95333</td><td>18.95333</td><td>17.97333</td><td>18.33333</td><td>  829200</td><td>18.33333</td><td>2.908721</td><td>-0.0357181520</td></tr>\n",
       "\t<tr><td>PANW</td><td>2012-07-31</td><td>18.33333</td><td>19.04667</td><td>17.40333</td><td>19.04667</td><td>  856200</td><td>19.04667</td><td>2.946892</td><td> 0.0381713036</td></tr>\n",
       "\t<tr><td>PANW</td><td>2012-08-01</td><td>19.57333</td><td>19.57333</td><td>18.38000</td><td>18.72667</td><td>  332700</td><td>18.72667</td><td>2.929949</td><td>-0.0169435584</td></tr>\n",
       "\t<tr><td>PANW</td><td>2012-08-02</td><td>18.56000</td><td>20.00000</td><td>17.75667</td><td>18.36667</td><td>  498000</td><td>18.36667</td><td>2.910537</td><td>-0.0194111380</td></tr>\n",
       "\t<tr><td>PANW</td><td>2012-08-03</td><td>18.88333</td><td>18.96667</td><td>18.08333</td><td>18.26333</td><td>  872700</td><td>18.26333</td><td>2.904895</td><td>-0.0056420804</td></tr>\n",
       "\t<tr><td>PANW</td><td>2012-08-06</td><td>18.56667</td><td>18.64000</td><td>17.89333</td><td>18.26000</td><td>  468900</td><td>18.26000</td><td>2.904713</td><td>-0.0001824663</td></tr>\n",
       "\t<tr><td>PANW</td><td>2012-08-07</td><td>18.33333</td><td>19.14667</td><td>18.17333</td><td>18.93333</td><td> 1097400</td><td>18.93333</td><td>2.940924</td><td> 0.0362111023</td></tr>\n",
       "\t<tr><td>PANW</td><td>2012-08-08</td><td>18.73333</td><td>20.33333</td><td>18.62333</td><td>20.31000</td><td> 1511700</td><td>20.31000</td><td>3.011113</td><td> 0.0701893593</td></tr>\n",
       "\t<tr><td>PANW</td><td>2012-08-09</td><td>20.33333</td><td>20.82000</td><td>19.95333</td><td>20.44333</td><td>  878100</td><td>20.44333</td><td>3.017657</td><td> 0.0065434493</td></tr>\n",
       "\t<tr><td>PANW</td><td>2012-08-10</td><td>20.33333</td><td>21.32333</td><td>20.16333</td><td>20.44000</td><td>  855300</td><td>20.44000</td><td>3.017494</td><td>-0.0001630072</td></tr>\n",
       "\t<tr><td>PANW</td><td>2012-08-13</td><td>20.36667</td><td>21.02667</td><td>20.00000</td><td>20.90667</td><td>  666000</td><td>20.90667</td><td>3.040068</td><td> 0.0225743458</td></tr>\n",
       "\t<tr><td>PANW</td><td>2012-08-14</td><td>21.37667</td><td>21.45333</td><td>19.77667</td><td>19.93333</td><td> 1421100</td><td>19.93333</td><td>2.992393</td><td>-0.0476748096</td></tr>\n",
       "\t<tr><td>PANW</td><td>2012-08-15</td><td>19.86667</td><td>20.96667</td><td>19.23333</td><td>20.91000</td><td>  761400</td><td>20.91000</td><td>3.040228</td><td> 0.0478341785</td></tr>\n",
       "\t<tr><td>PANW</td><td>2012-08-16</td><td>21.16667</td><td>22.30333</td><td>20.62333</td><td>22.16667</td><td> 1115400</td><td>22.16667</td><td>3.098590</td><td> 0.0583622102</td></tr>\n",
       "\t<tr><td>PANW</td><td>2012-08-17</td><td>22.36667</td><td>22.83333</td><td>21.61333</td><td>22.43000</td><td> 1153800</td><td>22.43000</td><td>3.110399</td><td> 0.0118096458</td></tr>\n",
       "\t<tr><td>PANW</td><td>2012-08-20</td><td>22.26000</td><td>22.38333</td><td>21.65667</td><td>21.82333</td><td>  810000</td><td>21.82333</td><td>3.082980</td><td>-0.0274196097</td></tr>\n",
       "\t<tr><td>PANW</td><td>2012-08-21</td><td>21.82667</td><td>22.14333</td><td>21.09333</td><td>21.44000</td><td>  742800</td><td>21.44000</td><td>3.065258</td><td>-0.0177213913</td></tr>\n",
       "\t<tr><td>PANW</td><td>2012-08-22</td><td>21.68667</td><td>21.72333</td><td>21.04000</td><td>21.08333</td><td>  373800</td><td>21.08333</td><td>3.048483</td><td>-0.0167755825</td></tr>\n",
       "\t<tr><td>PANW</td><td>2012-08-23</td><td>21.06667</td><td>21.62667</td><td>20.83333</td><td>21.38000</td><td>  645900</td><td>21.38000</td><td>3.062456</td><td> 0.0139730877</td></tr>\n",
       "\t<tr><td>PANW</td><td>2012-08-24</td><td>21.15000</td><td>21.92333</td><td>21.08333</td><td>21.59000</td><td>  608700</td><td>21.59000</td><td>3.072230</td><td> 0.0097743853</td></tr>\n",
       "\t<tr><td>PANW</td><td>2012-08-27</td><td>21.68333</td><td>21.94667</td><td>20.87333</td><td>21.23000</td><td>  531000</td><td>21.23000</td><td>3.055415</td><td>-0.0168149974</td></tr>\n",
       "\t<tr><td>PANW</td><td>2012-08-28</td><td>21.23333</td><td>21.47000</td><td>20.97000</td><td>21.30000</td><td>  312600</td><td>21.30000</td><td>3.058707</td><td> 0.0032917827</td></tr>\n",
       "\t<tr><td>PANW</td><td>2012-08-29</td><td>21.40667</td><td>21.70000</td><td>21.03333</td><td>21.57667</td><td>  486000</td><td>21.57667</td><td>3.071613</td><td> 0.0129054989</td></tr>\n",
       "\t<tr><td>PANW</td><td>2012-08-30</td><td>21.57000</td><td>22.22333</td><td>21.09000</td><td>21.14333</td><td>  689700</td><td>21.14333</td><td>3.051325</td><td>-0.0202878840</td></tr>\n",
       "\t<tr><td>⋮</td><td>⋮</td><td>⋮</td><td>⋮</td><td>⋮</td><td>⋮</td><td>⋮</td><td>⋮</td><td>⋮</td><td>⋮</td></tr>\n",
       "\t<tr><td>PANW</td><td>2024-01-10</td><td>305.20</td><td>316.49</td><td>305.10</td><td>316.09</td><td> 5080800</td><td>316.09</td><td>5.756027</td><td> 0.0508454313</td></tr>\n",
       "\t<tr><td>PANW</td><td>2024-01-11</td><td>320.53</td><td>325.37</td><td>316.52</td><td>323.49</td><td> 5000700</td><td>323.49</td><td>5.779168</td><td> 0.0231411998</td></tr>\n",
       "\t<tr><td>PANW</td><td>2024-01-12</td><td>324.51</td><td>330.40</td><td>321.40</td><td>325.24</td><td> 3191100</td><td>325.24</td><td>5.784563</td><td> 0.0053951699</td></tr>\n",
       "\t<tr><td>PANW</td><td>2024-01-16</td><td>328.30</td><td>333.30</td><td>325.50</td><td>332.05</td><td> 3758400</td><td>332.05</td><td>5.805286</td><td> 0.0207221819</td></tr>\n",
       "\t<tr><td>PANW</td><td>2024-01-17</td><td>330.54</td><td>332.47</td><td>322.61</td><td>330.06</td><td> 3932200</td><td>330.06</td><td>5.799274</td><td>-0.0060110745</td></tr>\n",
       "\t<tr><td>PANW</td><td>2024-01-18</td><td>336.41</td><td>338.59</td><td>332.56</td><td>335.77</td><td> 3598700</td><td>335.77</td><td>5.816426</td><td> 0.0171519203</td></tr>\n",
       "\t<tr><td>PANW</td><td>2024-01-19</td><td>339.53</td><td>340.40</td><td>334.31</td><td>337.74</td><td> 2917600</td><td>337.74</td><td>5.822276</td><td> 0.0058499707</td></tr>\n",
       "\t<tr><td>PANW</td><td>2024-01-22</td><td>346.29</td><td>350.60</td><td>342.45</td><td>345.65</td><td> 3511000</td><td>345.65</td><td>5.845427</td><td> 0.0231503449</td></tr>\n",
       "\t<tr><td>PANW</td><td>2024-01-23</td><td>345.57</td><td>346.00</td><td>338.32</td><td>344.18</td><td> 3022500</td><td>344.18</td><td>5.841165</td><td>-0.0042619297</td></tr>\n",
       "\t<tr><td>PANW</td><td>2024-01-24</td><td>347.82</td><td>347.99</td><td>339.84</td><td>340.24</td><td> 2927100</td><td>340.24</td><td>5.829651</td><td>-0.0115135328</td></tr>\n",
       "\t<tr><td>PANW</td><td>2024-01-25</td><td>344.46</td><td>344.46</td><td>336.57</td><td>340.19</td><td> 3455000</td><td>340.19</td><td>5.829504</td><td>-0.0001469300</td></tr>\n",
       "\t<tr><td>PANW</td><td>2024-01-26</td><td>340.00</td><td>344.30</td><td>338.06</td><td>342.44</td><td> 2165600</td><td>342.44</td><td>5.836096</td><td> 0.0065921748</td></tr>\n",
       "\t<tr><td>PANW</td><td>2024-01-29</td><td>341.99</td><td>345.49</td><td>340.77</td><td>345.25</td><td> 2619100</td><td>345.25</td><td>5.844269</td><td> 0.0081723253</td></tr>\n",
       "\t<tr><td>PANW</td><td>2024-01-30</td><td>344.83</td><td>347.63</td><td>342.76</td><td>345.89</td><td> 1744200</td><td>345.89</td><td>5.846121</td><td> 0.0018520555</td></tr>\n",
       "\t<tr><td>PANW</td><td>2024-01-31</td><td>342.23</td><td>343.99</td><td>332.67</td><td>338.51</td><td> 2484300</td><td>338.51</td><td>5.824554</td><td>-0.0215671849</td></tr>\n",
       "\t<tr><td>PANW</td><td>2024-02-01</td><td>339.00</td><td>340.45</td><td>335.44</td><td>339.97</td><td> 2175500</td><td>339.97</td><td>5.828857</td><td> 0.0043037192</td></tr>\n",
       "\t<tr><td>PANW</td><td>2024-02-02</td><td>339.56</td><td>346.43</td><td>339.00</td><td>345.06</td><td> 2539600</td><td>345.06</td><td>5.843718</td><td> 0.0148609259</td></tr>\n",
       "\t<tr><td>PANW</td><td>2024-02-05</td><td>344.28</td><td>345.50</td><td>337.94</td><td>344.48</td><td> 2670300</td><td>344.48</td><td>5.842036</td><td>-0.0016822424</td></tr>\n",
       "\t<tr><td>PANW</td><td>2024-02-06</td><td>345.49</td><td>347.75</td><td>336.00</td><td>341.49</td><td> 2741600</td><td>341.49</td><td>5.833318</td><td>-0.0087176981</td></tr>\n",
       "\t<tr><td>PANW</td><td>2024-02-07</td><td>351.40</td><td>366.14</td><td>349.40</td><td>364.50</td><td> 6581600</td><td>364.50</td><td>5.898527</td><td> 0.0652081840</td></tr>\n",
       "\t<tr><td>PANW</td><td>2024-02-08</td><td>363.22</td><td>371.72</td><td>363.00</td><td>367.02</td><td> 2958200</td><td>367.02</td><td>5.905416</td><td> 0.0068897611</td></tr>\n",
       "\t<tr><td>PANW</td><td>2024-02-09</td><td>373.05</td><td>380.84</td><td>369.00</td><td>376.90</td><td> 3501000</td><td>376.90</td><td>5.931980</td><td> 0.0265635715</td></tr>\n",
       "\t<tr><td>PANW</td><td>2024-02-12</td><td>375.45</td><td>376.30</td><td>367.53</td><td>371.97</td><td> 2868500</td><td>371.97</td><td>5.918813</td><td>-0.0131666749</td></tr>\n",
       "\t<tr><td>PANW</td><td>2024-02-13</td><td>359.12</td><td>374.38</td><td>353.81</td><td>368.26</td><td> 7842200</td><td>368.26</td><td>5.908789</td><td>-0.0100239722</td></tr>\n",
       "\t<tr><td>PANW</td><td>2024-02-14</td><td>368.81</td><td>375.17</td><td>366.13</td><td>368.33</td><td> 3093700</td><td>368.33</td><td>5.908979</td><td> 0.0001900021</td></tr>\n",
       "\t<tr><td>PANW</td><td>2024-02-15</td><td>368.18</td><td>369.79</td><td>361.62</td><td>366.88</td><td> 2717600</td><td>366.88</td><td>5.905035</td><td>-0.0039444066</td></tr>\n",
       "\t<tr><td>PANW</td><td>2024-02-16</td><td>369.50</td><td>370.99</td><td>362.05</td><td>366.41</td><td> 3258100</td><td>366.41</td><td>5.903753</td><td>-0.0012818974</td></tr>\n",
       "\t<tr><td>PANW</td><td>2024-02-20</td><td>362.85</td><td>369.29</td><td>359.82</td><td>366.09</td><td>10458800</td><td>366.09</td><td>5.902879</td><td>-0.0008737402</td></tr>\n",
       "\t<tr><td>PANW</td><td>2024-02-21</td><td>275.20</td><td>275.98</td><td>260.09</td><td>261.97</td><td>43937300</td><td>261.97</td><td>5.568230</td><td>-0.3346491968</td></tr>\n",
       "\t<tr><td>PANW</td><td>2024-02-22</td><td>274.13</td><td>276.81</td><td>265.00</td><td>267.82</td><td>19297300</td><td>267.82</td><td>5.590315</td><td> 0.0220851424</td></tr>\n",
       "</tbody>\n",
       "</table>\n"
      ],
      "text/latex": [
       "A tibble: 2916 × 10\n",
       "\\begin{tabular}{llllllllll}\n",
       " symbol & date & open & high & low & close & volume & adjusted & log\\_close & returns\\\\\n",
       " <chr> & <date> & <dbl> & <dbl> & <dbl> & <dbl> & <dbl> & <dbl> & <dbl> & <dbl>\\\\\n",
       "\\hline\n",
       "\t PANW & 2012-07-20 & 18.38333 & 20.69000 & 17.70000 & 17.71000 & 21048300 & 17.71000 & 2.874129 &  0.0000000000\\\\\n",
       "\t PANW & 2012-07-23 & 17.53333 & 18.00000 & 17.03333 & 17.17000 &  2365200 & 17.17000 & 2.843164 & -0.0309657207\\\\\n",
       "\t PANW & 2012-07-24 & 17.33333 & 18.66667 & 17.17333 & 18.50000 &  2150400 & 18.50000 & 2.917771 &  0.0746070527\\\\\n",
       "\t PANW & 2012-07-25 & 18.83333 & 19.66667 & 18.43333 & 19.65000 &  1799100 & 19.65000 & 2.978077 &  0.0603065868\\\\\n",
       "\t PANW & 2012-07-26 & 19.92667 & 20.61667 & 19.36000 & 19.96000 &  1283400 & 19.96000 & 2.993730 &  0.0156529061\\\\\n",
       "\t PANW & 2012-07-27 & 20.29333 & 20.29333 & 19.00000 & 19.00000 &   460200 & 19.00000 & 2.944439 & -0.0492912458\\\\\n",
       "\t PANW & 2012-07-30 & 18.95333 & 18.95333 & 17.97333 & 18.33333 &   829200 & 18.33333 & 2.908721 & -0.0357181520\\\\\n",
       "\t PANW & 2012-07-31 & 18.33333 & 19.04667 & 17.40333 & 19.04667 &   856200 & 19.04667 & 2.946892 &  0.0381713036\\\\\n",
       "\t PANW & 2012-08-01 & 19.57333 & 19.57333 & 18.38000 & 18.72667 &   332700 & 18.72667 & 2.929949 & -0.0169435584\\\\\n",
       "\t PANW & 2012-08-02 & 18.56000 & 20.00000 & 17.75667 & 18.36667 &   498000 & 18.36667 & 2.910537 & -0.0194111380\\\\\n",
       "\t PANW & 2012-08-03 & 18.88333 & 18.96667 & 18.08333 & 18.26333 &   872700 & 18.26333 & 2.904895 & -0.0056420804\\\\\n",
       "\t PANW & 2012-08-06 & 18.56667 & 18.64000 & 17.89333 & 18.26000 &   468900 & 18.26000 & 2.904713 & -0.0001824663\\\\\n",
       "\t PANW & 2012-08-07 & 18.33333 & 19.14667 & 18.17333 & 18.93333 &  1097400 & 18.93333 & 2.940924 &  0.0362111023\\\\\n",
       "\t PANW & 2012-08-08 & 18.73333 & 20.33333 & 18.62333 & 20.31000 &  1511700 & 20.31000 & 3.011113 &  0.0701893593\\\\\n",
       "\t PANW & 2012-08-09 & 20.33333 & 20.82000 & 19.95333 & 20.44333 &   878100 & 20.44333 & 3.017657 &  0.0065434493\\\\\n",
       "\t PANW & 2012-08-10 & 20.33333 & 21.32333 & 20.16333 & 20.44000 &   855300 & 20.44000 & 3.017494 & -0.0001630072\\\\\n",
       "\t PANW & 2012-08-13 & 20.36667 & 21.02667 & 20.00000 & 20.90667 &   666000 & 20.90667 & 3.040068 &  0.0225743458\\\\\n",
       "\t PANW & 2012-08-14 & 21.37667 & 21.45333 & 19.77667 & 19.93333 &  1421100 & 19.93333 & 2.992393 & -0.0476748096\\\\\n",
       "\t PANW & 2012-08-15 & 19.86667 & 20.96667 & 19.23333 & 20.91000 &   761400 & 20.91000 & 3.040228 &  0.0478341785\\\\\n",
       "\t PANW & 2012-08-16 & 21.16667 & 22.30333 & 20.62333 & 22.16667 &  1115400 & 22.16667 & 3.098590 &  0.0583622102\\\\\n",
       "\t PANW & 2012-08-17 & 22.36667 & 22.83333 & 21.61333 & 22.43000 &  1153800 & 22.43000 & 3.110399 &  0.0118096458\\\\\n",
       "\t PANW & 2012-08-20 & 22.26000 & 22.38333 & 21.65667 & 21.82333 &   810000 & 21.82333 & 3.082980 & -0.0274196097\\\\\n",
       "\t PANW & 2012-08-21 & 21.82667 & 22.14333 & 21.09333 & 21.44000 &   742800 & 21.44000 & 3.065258 & -0.0177213913\\\\\n",
       "\t PANW & 2012-08-22 & 21.68667 & 21.72333 & 21.04000 & 21.08333 &   373800 & 21.08333 & 3.048483 & -0.0167755825\\\\\n",
       "\t PANW & 2012-08-23 & 21.06667 & 21.62667 & 20.83333 & 21.38000 &   645900 & 21.38000 & 3.062456 &  0.0139730877\\\\\n",
       "\t PANW & 2012-08-24 & 21.15000 & 21.92333 & 21.08333 & 21.59000 &   608700 & 21.59000 & 3.072230 &  0.0097743853\\\\\n",
       "\t PANW & 2012-08-27 & 21.68333 & 21.94667 & 20.87333 & 21.23000 &   531000 & 21.23000 & 3.055415 & -0.0168149974\\\\\n",
       "\t PANW & 2012-08-28 & 21.23333 & 21.47000 & 20.97000 & 21.30000 &   312600 & 21.30000 & 3.058707 &  0.0032917827\\\\\n",
       "\t PANW & 2012-08-29 & 21.40667 & 21.70000 & 21.03333 & 21.57667 &   486000 & 21.57667 & 3.071613 &  0.0129054989\\\\\n",
       "\t PANW & 2012-08-30 & 21.57000 & 22.22333 & 21.09000 & 21.14333 &   689700 & 21.14333 & 3.051325 & -0.0202878840\\\\\n",
       "\t ⋮ & ⋮ & ⋮ & ⋮ & ⋮ & ⋮ & ⋮ & ⋮ & ⋮ & ⋮\\\\\n",
       "\t PANW & 2024-01-10 & 305.20 & 316.49 & 305.10 & 316.09 &  5080800 & 316.09 & 5.756027 &  0.0508454313\\\\\n",
       "\t PANW & 2024-01-11 & 320.53 & 325.37 & 316.52 & 323.49 &  5000700 & 323.49 & 5.779168 &  0.0231411998\\\\\n",
       "\t PANW & 2024-01-12 & 324.51 & 330.40 & 321.40 & 325.24 &  3191100 & 325.24 & 5.784563 &  0.0053951699\\\\\n",
       "\t PANW & 2024-01-16 & 328.30 & 333.30 & 325.50 & 332.05 &  3758400 & 332.05 & 5.805286 &  0.0207221819\\\\\n",
       "\t PANW & 2024-01-17 & 330.54 & 332.47 & 322.61 & 330.06 &  3932200 & 330.06 & 5.799274 & -0.0060110745\\\\\n",
       "\t PANW & 2024-01-18 & 336.41 & 338.59 & 332.56 & 335.77 &  3598700 & 335.77 & 5.816426 &  0.0171519203\\\\\n",
       "\t PANW & 2024-01-19 & 339.53 & 340.40 & 334.31 & 337.74 &  2917600 & 337.74 & 5.822276 &  0.0058499707\\\\\n",
       "\t PANW & 2024-01-22 & 346.29 & 350.60 & 342.45 & 345.65 &  3511000 & 345.65 & 5.845427 &  0.0231503449\\\\\n",
       "\t PANW & 2024-01-23 & 345.57 & 346.00 & 338.32 & 344.18 &  3022500 & 344.18 & 5.841165 & -0.0042619297\\\\\n",
       "\t PANW & 2024-01-24 & 347.82 & 347.99 & 339.84 & 340.24 &  2927100 & 340.24 & 5.829651 & -0.0115135328\\\\\n",
       "\t PANW & 2024-01-25 & 344.46 & 344.46 & 336.57 & 340.19 &  3455000 & 340.19 & 5.829504 & -0.0001469300\\\\\n",
       "\t PANW & 2024-01-26 & 340.00 & 344.30 & 338.06 & 342.44 &  2165600 & 342.44 & 5.836096 &  0.0065921748\\\\\n",
       "\t PANW & 2024-01-29 & 341.99 & 345.49 & 340.77 & 345.25 &  2619100 & 345.25 & 5.844269 &  0.0081723253\\\\\n",
       "\t PANW & 2024-01-30 & 344.83 & 347.63 & 342.76 & 345.89 &  1744200 & 345.89 & 5.846121 &  0.0018520555\\\\\n",
       "\t PANW & 2024-01-31 & 342.23 & 343.99 & 332.67 & 338.51 &  2484300 & 338.51 & 5.824554 & -0.0215671849\\\\\n",
       "\t PANW & 2024-02-01 & 339.00 & 340.45 & 335.44 & 339.97 &  2175500 & 339.97 & 5.828857 &  0.0043037192\\\\\n",
       "\t PANW & 2024-02-02 & 339.56 & 346.43 & 339.00 & 345.06 &  2539600 & 345.06 & 5.843718 &  0.0148609259\\\\\n",
       "\t PANW & 2024-02-05 & 344.28 & 345.50 & 337.94 & 344.48 &  2670300 & 344.48 & 5.842036 & -0.0016822424\\\\\n",
       "\t PANW & 2024-02-06 & 345.49 & 347.75 & 336.00 & 341.49 &  2741600 & 341.49 & 5.833318 & -0.0087176981\\\\\n",
       "\t PANW & 2024-02-07 & 351.40 & 366.14 & 349.40 & 364.50 &  6581600 & 364.50 & 5.898527 &  0.0652081840\\\\\n",
       "\t PANW & 2024-02-08 & 363.22 & 371.72 & 363.00 & 367.02 &  2958200 & 367.02 & 5.905416 &  0.0068897611\\\\\n",
       "\t PANW & 2024-02-09 & 373.05 & 380.84 & 369.00 & 376.90 &  3501000 & 376.90 & 5.931980 &  0.0265635715\\\\\n",
       "\t PANW & 2024-02-12 & 375.45 & 376.30 & 367.53 & 371.97 &  2868500 & 371.97 & 5.918813 & -0.0131666749\\\\\n",
       "\t PANW & 2024-02-13 & 359.12 & 374.38 & 353.81 & 368.26 &  7842200 & 368.26 & 5.908789 & -0.0100239722\\\\\n",
       "\t PANW & 2024-02-14 & 368.81 & 375.17 & 366.13 & 368.33 &  3093700 & 368.33 & 5.908979 &  0.0001900021\\\\\n",
       "\t PANW & 2024-02-15 & 368.18 & 369.79 & 361.62 & 366.88 &  2717600 & 366.88 & 5.905035 & -0.0039444066\\\\\n",
       "\t PANW & 2024-02-16 & 369.50 & 370.99 & 362.05 & 366.41 &  3258100 & 366.41 & 5.903753 & -0.0012818974\\\\\n",
       "\t PANW & 2024-02-20 & 362.85 & 369.29 & 359.82 & 366.09 & 10458800 & 366.09 & 5.902879 & -0.0008737402\\\\\n",
       "\t PANW & 2024-02-21 & 275.20 & 275.98 & 260.09 & 261.97 & 43937300 & 261.97 & 5.568230 & -0.3346491968\\\\\n",
       "\t PANW & 2024-02-22 & 274.13 & 276.81 & 265.00 & 267.82 & 19297300 & 267.82 & 5.590315 &  0.0220851424\\\\\n",
       "\\end{tabular}\n"
      ],
      "text/markdown": [
       "\n",
       "A tibble: 2916 × 10\n",
       "\n",
       "| symbol &lt;chr&gt; | date &lt;date&gt; | open &lt;dbl&gt; | high &lt;dbl&gt; | low &lt;dbl&gt; | close &lt;dbl&gt; | volume &lt;dbl&gt; | adjusted &lt;dbl&gt; | log_close &lt;dbl&gt; | returns &lt;dbl&gt; |\n",
       "|---|---|---|---|---|---|---|---|---|---|\n",
       "| PANW | 2012-07-20 | 18.38333 | 20.69000 | 17.70000 | 17.71000 | 21048300 | 17.71000 | 2.874129 |  0.0000000000 |\n",
       "| PANW | 2012-07-23 | 17.53333 | 18.00000 | 17.03333 | 17.17000 |  2365200 | 17.17000 | 2.843164 | -0.0309657207 |\n",
       "| PANW | 2012-07-24 | 17.33333 | 18.66667 | 17.17333 | 18.50000 |  2150400 | 18.50000 | 2.917771 |  0.0746070527 |\n",
       "| PANW | 2012-07-25 | 18.83333 | 19.66667 | 18.43333 | 19.65000 |  1799100 | 19.65000 | 2.978077 |  0.0603065868 |\n",
       "| PANW | 2012-07-26 | 19.92667 | 20.61667 | 19.36000 | 19.96000 |  1283400 | 19.96000 | 2.993730 |  0.0156529061 |\n",
       "| PANW | 2012-07-27 | 20.29333 | 20.29333 | 19.00000 | 19.00000 |   460200 | 19.00000 | 2.944439 | -0.0492912458 |\n",
       "| PANW | 2012-07-30 | 18.95333 | 18.95333 | 17.97333 | 18.33333 |   829200 | 18.33333 | 2.908721 | -0.0357181520 |\n",
       "| PANW | 2012-07-31 | 18.33333 | 19.04667 | 17.40333 | 19.04667 |   856200 | 19.04667 | 2.946892 |  0.0381713036 |\n",
       "| PANW | 2012-08-01 | 19.57333 | 19.57333 | 18.38000 | 18.72667 |   332700 | 18.72667 | 2.929949 | -0.0169435584 |\n",
       "| PANW | 2012-08-02 | 18.56000 | 20.00000 | 17.75667 | 18.36667 |   498000 | 18.36667 | 2.910537 | -0.0194111380 |\n",
       "| PANW | 2012-08-03 | 18.88333 | 18.96667 | 18.08333 | 18.26333 |   872700 | 18.26333 | 2.904895 | -0.0056420804 |\n",
       "| PANW | 2012-08-06 | 18.56667 | 18.64000 | 17.89333 | 18.26000 |   468900 | 18.26000 | 2.904713 | -0.0001824663 |\n",
       "| PANW | 2012-08-07 | 18.33333 | 19.14667 | 18.17333 | 18.93333 |  1097400 | 18.93333 | 2.940924 |  0.0362111023 |\n",
       "| PANW | 2012-08-08 | 18.73333 | 20.33333 | 18.62333 | 20.31000 |  1511700 | 20.31000 | 3.011113 |  0.0701893593 |\n",
       "| PANW | 2012-08-09 | 20.33333 | 20.82000 | 19.95333 | 20.44333 |   878100 | 20.44333 | 3.017657 |  0.0065434493 |\n",
       "| PANW | 2012-08-10 | 20.33333 | 21.32333 | 20.16333 | 20.44000 |   855300 | 20.44000 | 3.017494 | -0.0001630072 |\n",
       "| PANW | 2012-08-13 | 20.36667 | 21.02667 | 20.00000 | 20.90667 |   666000 | 20.90667 | 3.040068 |  0.0225743458 |\n",
       "| PANW | 2012-08-14 | 21.37667 | 21.45333 | 19.77667 | 19.93333 |  1421100 | 19.93333 | 2.992393 | -0.0476748096 |\n",
       "| PANW | 2012-08-15 | 19.86667 | 20.96667 | 19.23333 | 20.91000 |   761400 | 20.91000 | 3.040228 |  0.0478341785 |\n",
       "| PANW | 2012-08-16 | 21.16667 | 22.30333 | 20.62333 | 22.16667 |  1115400 | 22.16667 | 3.098590 |  0.0583622102 |\n",
       "| PANW | 2012-08-17 | 22.36667 | 22.83333 | 21.61333 | 22.43000 |  1153800 | 22.43000 | 3.110399 |  0.0118096458 |\n",
       "| PANW | 2012-08-20 | 22.26000 | 22.38333 | 21.65667 | 21.82333 |   810000 | 21.82333 | 3.082980 | -0.0274196097 |\n",
       "| PANW | 2012-08-21 | 21.82667 | 22.14333 | 21.09333 | 21.44000 |   742800 | 21.44000 | 3.065258 | -0.0177213913 |\n",
       "| PANW | 2012-08-22 | 21.68667 | 21.72333 | 21.04000 | 21.08333 |   373800 | 21.08333 | 3.048483 | -0.0167755825 |\n",
       "| PANW | 2012-08-23 | 21.06667 | 21.62667 | 20.83333 | 21.38000 |   645900 | 21.38000 | 3.062456 |  0.0139730877 |\n",
       "| PANW | 2012-08-24 | 21.15000 | 21.92333 | 21.08333 | 21.59000 |   608700 | 21.59000 | 3.072230 |  0.0097743853 |\n",
       "| PANW | 2012-08-27 | 21.68333 | 21.94667 | 20.87333 | 21.23000 |   531000 | 21.23000 | 3.055415 | -0.0168149974 |\n",
       "| PANW | 2012-08-28 | 21.23333 | 21.47000 | 20.97000 | 21.30000 |   312600 | 21.30000 | 3.058707 |  0.0032917827 |\n",
       "| PANW | 2012-08-29 | 21.40667 | 21.70000 | 21.03333 | 21.57667 |   486000 | 21.57667 | 3.071613 |  0.0129054989 |\n",
       "| PANW | 2012-08-30 | 21.57000 | 22.22333 | 21.09000 | 21.14333 |   689700 | 21.14333 | 3.051325 | -0.0202878840 |\n",
       "| ⋮ | ⋮ | ⋮ | ⋮ | ⋮ | ⋮ | ⋮ | ⋮ | ⋮ | ⋮ |\n",
       "| PANW | 2024-01-10 | 305.20 | 316.49 | 305.10 | 316.09 |  5080800 | 316.09 | 5.756027 |  0.0508454313 |\n",
       "| PANW | 2024-01-11 | 320.53 | 325.37 | 316.52 | 323.49 |  5000700 | 323.49 | 5.779168 |  0.0231411998 |\n",
       "| PANW | 2024-01-12 | 324.51 | 330.40 | 321.40 | 325.24 |  3191100 | 325.24 | 5.784563 |  0.0053951699 |\n",
       "| PANW | 2024-01-16 | 328.30 | 333.30 | 325.50 | 332.05 |  3758400 | 332.05 | 5.805286 |  0.0207221819 |\n",
       "| PANW | 2024-01-17 | 330.54 | 332.47 | 322.61 | 330.06 |  3932200 | 330.06 | 5.799274 | -0.0060110745 |\n",
       "| PANW | 2024-01-18 | 336.41 | 338.59 | 332.56 | 335.77 |  3598700 | 335.77 | 5.816426 |  0.0171519203 |\n",
       "| PANW | 2024-01-19 | 339.53 | 340.40 | 334.31 | 337.74 |  2917600 | 337.74 | 5.822276 |  0.0058499707 |\n",
       "| PANW | 2024-01-22 | 346.29 | 350.60 | 342.45 | 345.65 |  3511000 | 345.65 | 5.845427 |  0.0231503449 |\n",
       "| PANW | 2024-01-23 | 345.57 | 346.00 | 338.32 | 344.18 |  3022500 | 344.18 | 5.841165 | -0.0042619297 |\n",
       "| PANW | 2024-01-24 | 347.82 | 347.99 | 339.84 | 340.24 |  2927100 | 340.24 | 5.829651 | -0.0115135328 |\n",
       "| PANW | 2024-01-25 | 344.46 | 344.46 | 336.57 | 340.19 |  3455000 | 340.19 | 5.829504 | -0.0001469300 |\n",
       "| PANW | 2024-01-26 | 340.00 | 344.30 | 338.06 | 342.44 |  2165600 | 342.44 | 5.836096 |  0.0065921748 |\n",
       "| PANW | 2024-01-29 | 341.99 | 345.49 | 340.77 | 345.25 |  2619100 | 345.25 | 5.844269 |  0.0081723253 |\n",
       "| PANW | 2024-01-30 | 344.83 | 347.63 | 342.76 | 345.89 |  1744200 | 345.89 | 5.846121 |  0.0018520555 |\n",
       "| PANW | 2024-01-31 | 342.23 | 343.99 | 332.67 | 338.51 |  2484300 | 338.51 | 5.824554 | -0.0215671849 |\n",
       "| PANW | 2024-02-01 | 339.00 | 340.45 | 335.44 | 339.97 |  2175500 | 339.97 | 5.828857 |  0.0043037192 |\n",
       "| PANW | 2024-02-02 | 339.56 | 346.43 | 339.00 | 345.06 |  2539600 | 345.06 | 5.843718 |  0.0148609259 |\n",
       "| PANW | 2024-02-05 | 344.28 | 345.50 | 337.94 | 344.48 |  2670300 | 344.48 | 5.842036 | -0.0016822424 |\n",
       "| PANW | 2024-02-06 | 345.49 | 347.75 | 336.00 | 341.49 |  2741600 | 341.49 | 5.833318 | -0.0087176981 |\n",
       "| PANW | 2024-02-07 | 351.40 | 366.14 | 349.40 | 364.50 |  6581600 | 364.50 | 5.898527 |  0.0652081840 |\n",
       "| PANW | 2024-02-08 | 363.22 | 371.72 | 363.00 | 367.02 |  2958200 | 367.02 | 5.905416 |  0.0068897611 |\n",
       "| PANW | 2024-02-09 | 373.05 | 380.84 | 369.00 | 376.90 |  3501000 | 376.90 | 5.931980 |  0.0265635715 |\n",
       "| PANW | 2024-02-12 | 375.45 | 376.30 | 367.53 | 371.97 |  2868500 | 371.97 | 5.918813 | -0.0131666749 |\n",
       "| PANW | 2024-02-13 | 359.12 | 374.38 | 353.81 | 368.26 |  7842200 | 368.26 | 5.908789 | -0.0100239722 |\n",
       "| PANW | 2024-02-14 | 368.81 | 375.17 | 366.13 | 368.33 |  3093700 | 368.33 | 5.908979 |  0.0001900021 |\n",
       "| PANW | 2024-02-15 | 368.18 | 369.79 | 361.62 | 366.88 |  2717600 | 366.88 | 5.905035 | -0.0039444066 |\n",
       "| PANW | 2024-02-16 | 369.50 | 370.99 | 362.05 | 366.41 |  3258100 | 366.41 | 5.903753 | -0.0012818974 |\n",
       "| PANW | 2024-02-20 | 362.85 | 369.29 | 359.82 | 366.09 | 10458800 | 366.09 | 5.902879 | -0.0008737402 |\n",
       "| PANW | 2024-02-21 | 275.20 | 275.98 | 260.09 | 261.97 | 43937300 | 261.97 | 5.568230 | -0.3346491968 |\n",
       "| PANW | 2024-02-22 | 274.13 | 276.81 | 265.00 | 267.82 | 19297300 | 267.82 | 5.590315 |  0.0220851424 |\n",
       "\n"
      ],
      "text/plain": [
       "     symbol date       open     high     low      close    volume   adjusted\n",
       "1    PANW   2012-07-20 18.38333 20.69000 17.70000 17.71000 21048300 17.71000\n",
       "2    PANW   2012-07-23 17.53333 18.00000 17.03333 17.17000  2365200 17.17000\n",
       "3    PANW   2012-07-24 17.33333 18.66667 17.17333 18.50000  2150400 18.50000\n",
       "4    PANW   2012-07-25 18.83333 19.66667 18.43333 19.65000  1799100 19.65000\n",
       "5    PANW   2012-07-26 19.92667 20.61667 19.36000 19.96000  1283400 19.96000\n",
       "6    PANW   2012-07-27 20.29333 20.29333 19.00000 19.00000   460200 19.00000\n",
       "7    PANW   2012-07-30 18.95333 18.95333 17.97333 18.33333   829200 18.33333\n",
       "8    PANW   2012-07-31 18.33333 19.04667 17.40333 19.04667   856200 19.04667\n",
       "9    PANW   2012-08-01 19.57333 19.57333 18.38000 18.72667   332700 18.72667\n",
       "10   PANW   2012-08-02 18.56000 20.00000 17.75667 18.36667   498000 18.36667\n",
       "11   PANW   2012-08-03 18.88333 18.96667 18.08333 18.26333   872700 18.26333\n",
       "12   PANW   2012-08-06 18.56667 18.64000 17.89333 18.26000   468900 18.26000\n",
       "13   PANW   2012-08-07 18.33333 19.14667 18.17333 18.93333  1097400 18.93333\n",
       "14   PANW   2012-08-08 18.73333 20.33333 18.62333 20.31000  1511700 20.31000\n",
       "15   PANW   2012-08-09 20.33333 20.82000 19.95333 20.44333   878100 20.44333\n",
       "16   PANW   2012-08-10 20.33333 21.32333 20.16333 20.44000   855300 20.44000\n",
       "17   PANW   2012-08-13 20.36667 21.02667 20.00000 20.90667   666000 20.90667\n",
       "18   PANW   2012-08-14 21.37667 21.45333 19.77667 19.93333  1421100 19.93333\n",
       "19   PANW   2012-08-15 19.86667 20.96667 19.23333 20.91000   761400 20.91000\n",
       "20   PANW   2012-08-16 21.16667 22.30333 20.62333 22.16667  1115400 22.16667\n",
       "21   PANW   2012-08-17 22.36667 22.83333 21.61333 22.43000  1153800 22.43000\n",
       "22   PANW   2012-08-20 22.26000 22.38333 21.65667 21.82333   810000 21.82333\n",
       "23   PANW   2012-08-21 21.82667 22.14333 21.09333 21.44000   742800 21.44000\n",
       "24   PANW   2012-08-22 21.68667 21.72333 21.04000 21.08333   373800 21.08333\n",
       "25   PANW   2012-08-23 21.06667 21.62667 20.83333 21.38000   645900 21.38000\n",
       "26   PANW   2012-08-24 21.15000 21.92333 21.08333 21.59000   608700 21.59000\n",
       "27   PANW   2012-08-27 21.68333 21.94667 20.87333 21.23000   531000 21.23000\n",
       "28   PANW   2012-08-28 21.23333 21.47000 20.97000 21.30000   312600 21.30000\n",
       "29   PANW   2012-08-29 21.40667 21.70000 21.03333 21.57667   486000 21.57667\n",
       "30   PANW   2012-08-30 21.57000 22.22333 21.09000 21.14333   689700 21.14333\n",
       "⋮    ⋮      ⋮          ⋮        ⋮        ⋮        ⋮        ⋮        ⋮       \n",
       "2887 PANW   2024-01-10 305.20   316.49   305.10   316.09    5080800 316.09  \n",
       "2888 PANW   2024-01-11 320.53   325.37   316.52   323.49    5000700 323.49  \n",
       "2889 PANW   2024-01-12 324.51   330.40   321.40   325.24    3191100 325.24  \n",
       "2890 PANW   2024-01-16 328.30   333.30   325.50   332.05    3758400 332.05  \n",
       "2891 PANW   2024-01-17 330.54   332.47   322.61   330.06    3932200 330.06  \n",
       "2892 PANW   2024-01-18 336.41   338.59   332.56   335.77    3598700 335.77  \n",
       "2893 PANW   2024-01-19 339.53   340.40   334.31   337.74    2917600 337.74  \n",
       "2894 PANW   2024-01-22 346.29   350.60   342.45   345.65    3511000 345.65  \n",
       "2895 PANW   2024-01-23 345.57   346.00   338.32   344.18    3022500 344.18  \n",
       "2896 PANW   2024-01-24 347.82   347.99   339.84   340.24    2927100 340.24  \n",
       "2897 PANW   2024-01-25 344.46   344.46   336.57   340.19    3455000 340.19  \n",
       "2898 PANW   2024-01-26 340.00   344.30   338.06   342.44    2165600 342.44  \n",
       "2899 PANW   2024-01-29 341.99   345.49   340.77   345.25    2619100 345.25  \n",
       "2900 PANW   2024-01-30 344.83   347.63   342.76   345.89    1744200 345.89  \n",
       "2901 PANW   2024-01-31 342.23   343.99   332.67   338.51    2484300 338.51  \n",
       "2902 PANW   2024-02-01 339.00   340.45   335.44   339.97    2175500 339.97  \n",
       "2903 PANW   2024-02-02 339.56   346.43   339.00   345.06    2539600 345.06  \n",
       "2904 PANW   2024-02-05 344.28   345.50   337.94   344.48    2670300 344.48  \n",
       "2905 PANW   2024-02-06 345.49   347.75   336.00   341.49    2741600 341.49  \n",
       "2906 PANW   2024-02-07 351.40   366.14   349.40   364.50    6581600 364.50  \n",
       "2907 PANW   2024-02-08 363.22   371.72   363.00   367.02    2958200 367.02  \n",
       "2908 PANW   2024-02-09 373.05   380.84   369.00   376.90    3501000 376.90  \n",
       "2909 PANW   2024-02-12 375.45   376.30   367.53   371.97    2868500 371.97  \n",
       "2910 PANW   2024-02-13 359.12   374.38   353.81   368.26    7842200 368.26  \n",
       "2911 PANW   2024-02-14 368.81   375.17   366.13   368.33    3093700 368.33  \n",
       "2912 PANW   2024-02-15 368.18   369.79   361.62   366.88    2717600 366.88  \n",
       "2913 PANW   2024-02-16 369.50   370.99   362.05   366.41    3258100 366.41  \n",
       "2914 PANW   2024-02-20 362.85   369.29   359.82   366.09   10458800 366.09  \n",
       "2915 PANW   2024-02-21 275.20   275.98   260.09   261.97   43937300 261.97  \n",
       "2916 PANW   2024-02-22 274.13   276.81   265.00   267.82   19297300 267.82  \n",
       "     log_close returns      \n",
       "1    2.874129   0.0000000000\n",
       "2    2.843164  -0.0309657207\n",
       "3    2.917771   0.0746070527\n",
       "4    2.978077   0.0603065868\n",
       "5    2.993730   0.0156529061\n",
       "6    2.944439  -0.0492912458\n",
       "7    2.908721  -0.0357181520\n",
       "8    2.946892   0.0381713036\n",
       "9    2.929949  -0.0169435584\n",
       "10   2.910537  -0.0194111380\n",
       "11   2.904895  -0.0056420804\n",
       "12   2.904713  -0.0001824663\n",
       "13   2.940924   0.0362111023\n",
       "14   3.011113   0.0701893593\n",
       "15   3.017657   0.0065434493\n",
       "16   3.017494  -0.0001630072\n",
       "17   3.040068   0.0225743458\n",
       "18   2.992393  -0.0476748096\n",
       "19   3.040228   0.0478341785\n",
       "20   3.098590   0.0583622102\n",
       "21   3.110399   0.0118096458\n",
       "22   3.082980  -0.0274196097\n",
       "23   3.065258  -0.0177213913\n",
       "24   3.048483  -0.0167755825\n",
       "25   3.062456   0.0139730877\n",
       "26   3.072230   0.0097743853\n",
       "27   3.055415  -0.0168149974\n",
       "28   3.058707   0.0032917827\n",
       "29   3.071613   0.0129054989\n",
       "30   3.051325  -0.0202878840\n",
       "⋮    ⋮         ⋮            \n",
       "2887 5.756027   0.0508454313\n",
       "2888 5.779168   0.0231411998\n",
       "2889 5.784563   0.0053951699\n",
       "2890 5.805286   0.0207221819\n",
       "2891 5.799274  -0.0060110745\n",
       "2892 5.816426   0.0171519203\n",
       "2893 5.822276   0.0058499707\n",
       "2894 5.845427   0.0231503449\n",
       "2895 5.841165  -0.0042619297\n",
       "2896 5.829651  -0.0115135328\n",
       "2897 5.829504  -0.0001469300\n",
       "2898 5.836096   0.0065921748\n",
       "2899 5.844269   0.0081723253\n",
       "2900 5.846121   0.0018520555\n",
       "2901 5.824554  -0.0215671849\n",
       "2902 5.828857   0.0043037192\n",
       "2903 5.843718   0.0148609259\n",
       "2904 5.842036  -0.0016822424\n",
       "2905 5.833318  -0.0087176981\n",
       "2906 5.898527   0.0652081840\n",
       "2907 5.905416   0.0068897611\n",
       "2908 5.931980   0.0265635715\n",
       "2909 5.918813  -0.0131666749\n",
       "2910 5.908789  -0.0100239722\n",
       "2911 5.908979   0.0001900021\n",
       "2912 5.905035  -0.0039444066\n",
       "2913 5.903753  -0.0012818974\n",
       "2914 5.902879  -0.0008737402\n",
       "2915 5.568230  -0.3346491968\n",
       "2916 5.590315   0.0220851424"
      ]
     },
     "metadata": {},
     "output_type": "display_data"
    }
   ],
   "source": [
    "# Create a new column 'returns' in mydata\n",
    "mydata$returns <- c(0, rets)\n",
    "\n",
    "mydata"
   ]
  },
  {
   "cell_type": "code",
   "execution_count": 13,
   "id": "18fdf90f-15dc-4f96-ba31-47dbf059b769",
   "metadata": {},
   "outputs": [
    {
     "data": {
      "image/png": "[encoded data removed]",
      "text/plain": [
       "plot without title"
      ]
     },
     "metadata": {
      "image/png": {
       "height": 420,
       "width": 420
      }
     },
     "output_type": "display_data"
    }
   ],
   "source": [
    "# Combine dates and returns into a data frame\n",
    "returns_df <- data.frame(date = mydata$date, returns = mydata$returns)\n",
    "\n",
    "# Create the plot\n",
    "ggplot(returns_df, aes(x = date, y = returns)) +\n",
    "  geom_line() +\n",
    "  labs(title = \"PANW Stock Daily Returns\",\n",
    "       x = \"Date\",\n",
    "       y = \"Returns\")"
   ]
  },
  {
   "cell_type": "code",
   "execution_count": 14,
   "id": "5db89a29-60b3-4ec3-87b0-42630081a3ca",
   "metadata": {},
   "outputs": [
    {
     "data": {
      "text/plain": [
       "      date               returns          \n",
       " Min.   :2012-07-20   Min.   :-0.3346492  \n",
       " 1st Qu.:2015-06-15   1st Qu.:-0.0104209  \n",
       " Median :2018-05-07   Median : 0.0012086  \n",
       " Mean   :2018-05-07   Mean   : 0.0009315  \n",
       " 3rd Qu.:2021-03-30   3rd Qu.: 0.0133619  \n",
       " Max.   :2024-02-22   Max.   : 0.1705907  "
      ]
     },
     "metadata": {},
     "output_type": "display_data"
    }
   ],
   "source": [
    "summary(returns_df)"
   ]
  },
  {
   "cell_type": "code",
   "execution_count": 15,
   "id": "ef18523d-e2d3-41b8-b44c-451257b211c7",
   "metadata": {},
   "outputs": [
    {
     "data": {
      "image/png": "[encoded data removed]",
      "text/plain": [
       "plot without title"
      ]
     },
     "metadata": {
      "image/png": {
       "height": 420,
       "width": 420
      }
     },
     "output_type": "display_data"
    }
   ],
   "source": [
    "ggplot(mydata, aes(x=returns_df$returns)) + geom_histogram(binwidth = 0.01) + xlab(\"returns\")"
   ]
  },
  {
   "cell_type": "code",
   "execution_count": 16,
   "id": "191eb220-9926-4b91-856c-f0d8df3b6b38",
   "metadata": {},
   "outputs": [
    {
     "data": {
      "image/png": "[encoded data removed]",
      "text/plain": [
       "Plot with title \"Normal Q-Q Plot\""
      ]
     },
     "metadata": {
      "image/png": {
       "height": 420,
       "width": 420
      }
     },
     "output_type": "display_data"
    }
   ],
   "source": [
    "qqnorm(returns_df$returns, pch = 1, frame = FALSE)\n",
    "qqline(returns_df$returns, col = \"steelblue\", lwd = 2)"
   ]
  },
  {
   "cell_type": "code",
   "execution_count": 17,
   "id": "faeaed1b-9a68-489d-b65f-b75d783ef9c3",
   "metadata": {},
   "outputs": [
    {
     "data": {
      "text/plain": [
       "\n",
       "\tJarque Bera Test\n",
       "\n",
       "data:  returns_df$returns\n",
       "X-squared = 49741, df = 2, p-value < 2.2e-16\n"
      ]
     },
     "metadata": {},
     "output_type": "display_data"
    }
   ],
   "source": [
    "library(tseries)\n",
    "jarque.bera.test(returns_df$returns)"
   ]
  },
  {
   "cell_type": "markdown",
   "id": "1bdb34ba-0e4c-4bdf-a568-67966b3cdc6c",
   "metadata": {},
   "source": [
    "With a strong focus on innovation and a comprehensive product portfolio, Palo Alto Networks is well-positioned to capitalize on the increasing demand for cybersecurity solutions in today's digital landscape."
   ]
  }
 ],
 "metadata": {
  "kernelspec": {
   "display_name": "R",
   "language": "R",
   "name": "ir"
  },
  "language_info": {
   "codemirror_mode": "r",
   "file_extension": ".r",
   "mimetype": "text/x-r-source",
   "name": "R",
   "pygments_lexer": "r",
   "version": "4.3.2"
  }
 },
 "nbformat": 4,
 "nbformat_minor": 5
}
